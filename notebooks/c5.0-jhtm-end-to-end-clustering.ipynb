{
 "cells": [
  {
   "cell_type": "markdown",
   "id": "37a5d522",
   "metadata": {},
   "source": [
    "# 0. Imports"
   ]
  },
  {
   "cell_type": "markdown",
   "id": "ab7810ad",
   "metadata": {},
   "source": [
    "## 0.0. Imports"
   ]
  },
  {
   "cell_type": "code",
   "execution_count": 60,
   "id": "31c34f55",
   "metadata": {
    "ExecuteTime": {
     "end_time": "2022-07-29T13:42:23.769642Z",
     "start_time": "2022-07-29T13:42:23.751532Z"
    }
   },
   "outputs": [],
   "source": [
    "import re\n",
    "import warnings\n",
    "import datetime\n",
    "\n",
    "import numpy   as np\n",
    "import pandas  as pd\n",
    "import seaborn as sns\n",
    "\n",
    "import umap.umap_ as umap\n",
    "\n",
    "from pandas_profiling      import ProfileReport\n",
    "from matplotlib            import pyplot as plt\n",
    "from IPython.display       import HTML\n",
    "from yellowbrick.cluster   import KElbowVisualizer\n",
    "from yellowbrick.cluster   import SilhouetteVisualizer\n",
    "\n",
    "from sklearn               import cluster as c\n",
    "from sklearn               import metrics as m\n",
    "from plotly                import express as px\n",
    "from matplotlib            import pyplot  as plt\n",
    "from sklearn               import preprocessing as pp"
   ]
  },
  {
   "cell_type": "markdown",
   "id": "892cdcec",
   "metadata": {},
   "source": [
    "## 0.1. Helper Functions "
   ]
  },
  {
   "cell_type": "code",
   "execution_count": 61,
   "id": "dc53ccd7",
   "metadata": {
    "ExecuteTime": {
     "end_time": "2022-07-29T13:42:23.833648Z",
     "start_time": "2022-07-29T13:42:23.825655Z"
    }
   },
   "outputs": [
    {
     "name": "stdout",
     "output_type": "stream",
     "text": [
      "%pylab is deprecated, use %matplotlib inline and import the required libraries.\n",
      "Populating the interactive namespace from numpy and matplotlib\n"
     ]
    }
   ],
   "source": [
    "warnings.filterwarnings(\"ignore\")\n",
    "\n",
    "def jupyter_settings():\n",
    "    %matplotlib inline\n",
    "    %pylab inline\n",
    "    \n",
    "    plt.style.use('ggplot')\n",
    "    plt.rcParams['figure.figsize'] = [14, 7]\n",
    "    plt.rcParams['font.size'] = 24\n",
    "    \n",
    "    sns.set\n",
    "    \n",
    "jupyter_settings()"
   ]
  },
  {
   "cell_type": "markdown",
   "id": "5d2fbff6",
   "metadata": {
    "ExecuteTime": {
     "end_time": "2022-05-16T15:12:27.622811Z",
     "start_time": "2022-05-16T15:12:27.618801Z"
    }
   },
   "source": [
    "## 0.2. Load Dataset"
   ]
  },
  {
   "cell_type": "code",
   "execution_count": 62,
   "id": "ca790dc8",
   "metadata": {
    "ExecuteTime": {
     "end_time": "2022-07-29T13:42:24.529226Z",
     "start_time": "2022-07-29T13:42:23.896670Z"
    }
   },
   "outputs": [],
   "source": [
    "# load data\n",
    "df_raw = pd.read_csv('C:/Users/joaoh/repos/Insiders-Clustering/data/Ecommerce.csv', encoding='unicode_escape')\n",
    "\n",
    "# drop extra column\n",
    "df_raw = df_raw.drop('Unnamed: 8', axis=1)"
   ]
  },
  {
   "cell_type": "markdown",
   "id": "ee9e97f5",
   "metadata": {},
   "source": [
    "# 1. Data Description"
   ]
  },
  {
   "cell_type": "code",
   "execution_count": 63,
   "id": "c5d0b721",
   "metadata": {
    "ExecuteTime": {
     "end_time": "2022-07-29T13:42:24.559140Z",
     "start_time": "2022-07-29T13:42:24.531732Z"
    }
   },
   "outputs": [],
   "source": [
    "df1 = df_raw.copy()"
   ]
  },
  {
   "cell_type": "markdown",
   "id": "02d57ee9",
   "metadata": {},
   "source": [
    "## 1.1. Rename Columns"
   ]
  },
  {
   "cell_type": "code",
   "execution_count": 64,
   "id": "0418e8e0",
   "metadata": {
    "ExecuteTime": {
     "end_time": "2022-07-29T13:42:24.575160Z",
     "start_time": "2022-07-29T13:42:24.561142Z"
    }
   },
   "outputs": [],
   "source": [
    "cols_new = ['invoice_no', 'stock_code', 'description', 'quantity', 'invoice_date', 'unit_price', 'customer_id', 'country']\n",
    "df1.columns = cols_new"
   ]
  },
  {
   "cell_type": "markdown",
   "id": "94a2d278",
   "metadata": {},
   "source": [
    "## 1.2. Data Dimensions"
   ]
  },
  {
   "cell_type": "code",
   "execution_count": 65,
   "id": "8bc984a8",
   "metadata": {
    "ExecuteTime": {
     "end_time": "2022-07-29T13:42:24.590148Z",
     "start_time": "2022-07-29T13:42:24.578146Z"
    }
   },
   "outputs": [
    {
     "name": "stdout",
     "output_type": "stream",
     "text": [
      "Number of Rows: 541909\n",
      "Number of Columns: 8\n"
     ]
    }
   ],
   "source": [
    "print('Number of Rows: {}'.format(df1.shape[0]))\n",
    "print('Number of Columns: {}'.format(df1.shape[1]))"
   ]
  },
  {
   "cell_type": "markdown",
   "id": "e70072b7",
   "metadata": {},
   "source": [
    "## 1.3.  Data Types"
   ]
  },
  {
   "cell_type": "code",
   "execution_count": 66,
   "id": "d431035c",
   "metadata": {
    "ExecuteTime": {
     "end_time": "2022-07-29T13:42:24.605151Z",
     "start_time": "2022-07-29T13:42:24.592149Z"
    }
   },
   "outputs": [
    {
     "data": {
      "text/plain": [
       "invoice_no       object\n",
       "stock_code       object\n",
       "description      object\n",
       "quantity          int64\n",
       "invoice_date     object\n",
       "unit_price      float64\n",
       "customer_id     float64\n",
       "country          object\n",
       "dtype: object"
      ]
     },
     "execution_count": 66,
     "metadata": {},
     "output_type": "execute_result"
    }
   ],
   "source": [
    "df1.dtypes"
   ]
  },
  {
   "cell_type": "markdown",
   "id": "e3988397",
   "metadata": {},
   "source": [
    "## 1.4 Check NA"
   ]
  },
  {
   "cell_type": "code",
   "execution_count": 67,
   "id": "4522ab83",
   "metadata": {
    "ExecuteTime": {
     "end_time": "2022-07-29T13:42:24.937247Z",
     "start_time": "2022-07-29T13:42:24.608164Z"
    }
   },
   "outputs": [
    {
     "data": {
      "text/plain": [
       "invoice_no           0\n",
       "stock_code           0\n",
       "description       1454\n",
       "quantity             0\n",
       "invoice_date         0\n",
       "unit_price           0\n",
       "customer_id     135080\n",
       "country              0\n",
       "dtype: int64"
      ]
     },
     "execution_count": 67,
     "metadata": {},
     "output_type": "execute_result"
    }
   ],
   "source": [
    "df1.isna().sum()"
   ]
  },
  {
   "cell_type": "markdown",
   "id": "315aa278",
   "metadata": {},
   "source": [
    "## 1.5. Replace NA"
   ]
  },
  {
   "cell_type": "code",
   "execution_count": 68,
   "id": "fed58d3f",
   "metadata": {
    "ExecuteTime": {
     "end_time": "2022-07-29T13:42:24.999431Z",
     "start_time": "2022-07-29T13:42:24.938248Z"
    }
   },
   "outputs": [],
   "source": [
    "df_missing = df1.loc[df1['customer_id'].isna(), :]\n",
    "df_not_missing = df1.loc[~df1['customer_id'].isna(), :]"
   ]
  },
  {
   "cell_type": "code",
   "execution_count": 69,
   "id": "d43268e0",
   "metadata": {
    "ExecuteTime": {
     "end_time": "2022-07-29T13:42:25.170871Z",
     "start_time": "2022-07-29T13:42:25.001435Z"
    }
   },
   "outputs": [],
   "source": [
    "df_backup = pd.DataFrame(df_missing['invoice_no'].drop_duplicates())\n",
    "df_backup['customer_id'] = np.arange(19000, 19000+len(df_backup), 1)\n",
    "\n",
    "# merge original with reference dataframe\n",
    "df1 = pd.merge(df1, df_backup, on='invoice_no', how='left')\n",
    "\n",
    "# coalesce\n",
    "df1['customer_id'] = df1['customer_id_x'].combine_first(df1['customer_id_y'])\n",
    "\n",
    "# drop extra columns\n",
    "df1 = df1.drop(columns=['customer_id_x', 'customer_id_y'], axis=1)"
   ]
  },
  {
   "cell_type": "markdown",
   "id": "6a16402a",
   "metadata": {},
   "source": [
    "## 1.6. Change Types"
   ]
  },
  {
   "cell_type": "code",
   "execution_count": 70,
   "id": "a05e29ee",
   "metadata": {
    "ExecuteTime": {
     "end_time": "2022-07-29T13:42:25.248909Z",
     "start_time": "2022-07-29T13:42:25.172842Z"
    }
   },
   "outputs": [],
   "source": [
    "# invoice date\n",
    "df1['invoice_date'] = pd.to_datetime(df1['invoice_date'], format='%d-%b-%y')\n",
    "\n",
    "# customer id\n",
    "df1['customer_id'] = df1['customer_id'].astype(int64)"
   ]
  },
  {
   "cell_type": "code",
   "execution_count": 71,
   "id": "534c694d",
   "metadata": {
    "ExecuteTime": {
     "end_time": "2022-07-29T13:42:25.264912Z",
     "start_time": "2022-07-29T13:42:25.251911Z"
    }
   },
   "outputs": [
    {
     "data": {
      "text/plain": [
       "invoice_no              object\n",
       "stock_code              object\n",
       "description             object\n",
       "quantity                 int64\n",
       "invoice_date    datetime64[ns]\n",
       "unit_price             float64\n",
       "country                 object\n",
       "customer_id              int64\n",
       "dtype: object"
      ]
     },
     "execution_count": 71,
     "metadata": {},
     "output_type": "execute_result"
    }
   ],
   "source": [
    "df1.dtypes"
   ]
  },
  {
   "cell_type": "markdown",
   "id": "8620346f",
   "metadata": {},
   "source": [
    "## 1.7. Descriptive Statistics"
   ]
  },
  {
   "cell_type": "code",
   "execution_count": 72,
   "id": "46d067d6",
   "metadata": {
    "ExecuteTime": {
     "end_time": "2022-07-29T13:42:25.280916Z",
     "start_time": "2022-07-29T13:42:25.266915Z"
    }
   },
   "outputs": [],
   "source": [
    "num_attributes = df1.select_dtypes(include=['int64', 'float64'])\n",
    "\n",
    "cat_attributes = df1.select_dtypes(exclude=['int64', 'float64', 'datetime64[ns]'])"
   ]
  },
  {
   "cell_type": "markdown",
   "id": "2e61fc3f",
   "metadata": {},
   "source": [
    "### 1.7.1. Numerical Attributes"
   ]
  },
  {
   "cell_type": "code",
   "execution_count": 73,
   "id": "d0695db6",
   "metadata": {
    "ExecuteTime": {
     "end_time": "2022-07-29T13:42:25.422671Z",
     "start_time": "2022-07-29T13:42:25.281916Z"
    }
   },
   "outputs": [
    {
     "data": {
      "text/html": [
       "<div>\n",
       "<style scoped>\n",
       "    .dataframe tbody tr th:only-of-type {\n",
       "        vertical-align: middle;\n",
       "    }\n",
       "\n",
       "    .dataframe tbody tr th {\n",
       "        vertical-align: top;\n",
       "    }\n",
       "\n",
       "    .dataframe thead th {\n",
       "        text-align: right;\n",
       "    }\n",
       "</style>\n",
       "<table border=\"1\" class=\"dataframe\">\n",
       "  <thead>\n",
       "    <tr style=\"text-align: right;\">\n",
       "      <th></th>\n",
       "      <th>attributes</th>\n",
       "      <th>min</th>\n",
       "      <th>max</th>\n",
       "      <th>range</th>\n",
       "      <th>mean</th>\n",
       "      <th>median</th>\n",
       "      <th>std</th>\n",
       "      <th>skew</th>\n",
       "      <th>kurtosis</th>\n",
       "    </tr>\n",
       "  </thead>\n",
       "  <tbody>\n",
       "    <tr>\n",
       "      <th>0</th>\n",
       "      <td>quantity</td>\n",
       "      <td>-80995.00</td>\n",
       "      <td>80995.0</td>\n",
       "      <td>161990.00</td>\n",
       "      <td>9.552250</td>\n",
       "      <td>3.00</td>\n",
       "      <td>218.080957</td>\n",
       "      <td>-0.264076</td>\n",
       "      <td>119769.160031</td>\n",
       "    </tr>\n",
       "    <tr>\n",
       "      <th>1</th>\n",
       "      <td>unit_price</td>\n",
       "      <td>-11062.06</td>\n",
       "      <td>38970.0</td>\n",
       "      <td>50032.06</td>\n",
       "      <td>4.611114</td>\n",
       "      <td>2.08</td>\n",
       "      <td>96.759764</td>\n",
       "      <td>186.506972</td>\n",
       "      <td>59005.719097</td>\n",
       "    </tr>\n",
       "    <tr>\n",
       "      <th>2</th>\n",
       "      <td>customer_id</td>\n",
       "      <td>12346.00</td>\n",
       "      <td>22709.0</td>\n",
       "      <td>10363.00</td>\n",
       "      <td>16688.840453</td>\n",
       "      <td>16249.00</td>\n",
       "      <td>2911.408666</td>\n",
       "      <td>0.487449</td>\n",
       "      <td>-0.804287</td>\n",
       "    </tr>\n",
       "  </tbody>\n",
       "</table>\n",
       "</div>"
      ],
      "text/plain": [
       "    attributes       min      max      range          mean    median  \\\n",
       "0     quantity -80995.00  80995.0  161990.00      9.552250      3.00   \n",
       "1   unit_price -11062.06  38970.0   50032.06      4.611114      2.08   \n",
       "2  customer_id  12346.00  22709.0   10363.00  16688.840453  16249.00   \n",
       "\n",
       "           std        skew       kurtosis  \n",
       "0   218.080957   -0.264076  119769.160031  \n",
       "1    96.759764  186.506972   59005.719097  \n",
       "2  2911.408666    0.487449      -0.804287  "
      ]
     },
     "execution_count": 73,
     "metadata": {},
     "output_type": "execute_result"
    }
   ],
   "source": [
    "# central tendency - mean, median\n",
    "ct1 = pd.DataFrame(num_attributes.apply(np.mean)).T\n",
    "ct2 = pd.DataFrame(num_attributes.apply(np.median)).T\n",
    "\n",
    "# dispersion - std, min, max, range, skew, kurtosis\n",
    "d1 = pd.DataFrame(num_attributes.apply(np.std)).T\n",
    "d2 = pd.DataFrame(num_attributes.apply(np.min)).T\n",
    "d3 = pd.DataFrame(num_attributes.apply(np.max)).T\n",
    "d4 = pd.DataFrame(num_attributes.apply(lambda x: x.max() - x.min())).T\n",
    "d5 = pd.DataFrame(num_attributes.apply(lambda x: x.skew())).T\n",
    "d6 = pd.DataFrame(num_attributes.apply(lambda x: x.kurtosis())).T\n",
    "\n",
    "m = pd.concat([d2, d3, d4, ct1, ct2, d1, d5, d6]).T.reset_index()\n",
    "m.columns = ['attributes', 'min', 'max', 'range', 'mean', 'median', 'std', 'skew', 'kurtosis']\n",
    "m"
   ]
  },
  {
   "cell_type": "markdown",
   "id": "c077be02",
   "metadata": {},
   "source": [
    "#### 1.7.1.1. Numerical Attributes - Investigating"
   ]
  },
  {
   "cell_type": "markdown",
   "id": "f209629d",
   "metadata": {},
   "source": [
    "1. Negative Quantity (Refund?)\n",
    "2. Unit Price equals Zero (Promo?)"
   ]
  },
  {
   "cell_type": "markdown",
   "id": "88c64342",
   "metadata": {},
   "source": [
    "### 1.7.2 Categorical Attributes"
   ]
  },
  {
   "cell_type": "code",
   "execution_count": 74,
   "id": "6d336f2c",
   "metadata": {
    "ExecuteTime": {
     "end_time": "2022-07-29T13:42:25.438676Z",
     "start_time": "2022-07-29T13:42:25.424673Z"
    }
   },
   "outputs": [
    {
     "data": {
      "text/html": [
       "<div>\n",
       "<style scoped>\n",
       "    .dataframe tbody tr th:only-of-type {\n",
       "        vertical-align: middle;\n",
       "    }\n",
       "\n",
       "    .dataframe tbody tr th {\n",
       "        vertical-align: top;\n",
       "    }\n",
       "\n",
       "    .dataframe thead th {\n",
       "        text-align: right;\n",
       "    }\n",
       "</style>\n",
       "<table border=\"1\" class=\"dataframe\">\n",
       "  <thead>\n",
       "    <tr style=\"text-align: right;\">\n",
       "      <th></th>\n",
       "      <th>invoice_no</th>\n",
       "      <th>stock_code</th>\n",
       "      <th>description</th>\n",
       "      <th>country</th>\n",
       "    </tr>\n",
       "  </thead>\n",
       "  <tbody>\n",
       "    <tr>\n",
       "      <th>0</th>\n",
       "      <td>536365</td>\n",
       "      <td>85123A</td>\n",
       "      <td>WHITE HANGING HEART T-LIGHT HOLDER</td>\n",
       "      <td>United Kingdom</td>\n",
       "    </tr>\n",
       "    <tr>\n",
       "      <th>1</th>\n",
       "      <td>536365</td>\n",
       "      <td>71053</td>\n",
       "      <td>WHITE METAL LANTERN</td>\n",
       "      <td>United Kingdom</td>\n",
       "    </tr>\n",
       "    <tr>\n",
       "      <th>2</th>\n",
       "      <td>536365</td>\n",
       "      <td>84406B</td>\n",
       "      <td>CREAM CUPID HEARTS COAT HANGER</td>\n",
       "      <td>United Kingdom</td>\n",
       "    </tr>\n",
       "    <tr>\n",
       "      <th>3</th>\n",
       "      <td>536365</td>\n",
       "      <td>84029G</td>\n",
       "      <td>KNITTED UNION FLAG HOT WATER BOTTLE</td>\n",
       "      <td>United Kingdom</td>\n",
       "    </tr>\n",
       "    <tr>\n",
       "      <th>4</th>\n",
       "      <td>536365</td>\n",
       "      <td>84029E</td>\n",
       "      <td>RED WOOLLY HOTTIE WHITE HEART.</td>\n",
       "      <td>United Kingdom</td>\n",
       "    </tr>\n",
       "    <tr>\n",
       "      <th>...</th>\n",
       "      <td>...</td>\n",
       "      <td>...</td>\n",
       "      <td>...</td>\n",
       "      <td>...</td>\n",
       "    </tr>\n",
       "    <tr>\n",
       "      <th>541904</th>\n",
       "      <td>581587</td>\n",
       "      <td>22613</td>\n",
       "      <td>PACK OF 20 SPACEBOY NAPKINS</td>\n",
       "      <td>France</td>\n",
       "    </tr>\n",
       "    <tr>\n",
       "      <th>541905</th>\n",
       "      <td>581587</td>\n",
       "      <td>22899</td>\n",
       "      <td>CHILDREN'S APRON DOLLY GIRL</td>\n",
       "      <td>France</td>\n",
       "    </tr>\n",
       "    <tr>\n",
       "      <th>541906</th>\n",
       "      <td>581587</td>\n",
       "      <td>23254</td>\n",
       "      <td>CHILDRENS CUTLERY DOLLY GIRL</td>\n",
       "      <td>France</td>\n",
       "    </tr>\n",
       "    <tr>\n",
       "      <th>541907</th>\n",
       "      <td>581587</td>\n",
       "      <td>23255</td>\n",
       "      <td>CHILDRENS CUTLERY CIRCUS PARADE</td>\n",
       "      <td>France</td>\n",
       "    </tr>\n",
       "    <tr>\n",
       "      <th>541908</th>\n",
       "      <td>581587</td>\n",
       "      <td>22138</td>\n",
       "      <td>BAKING SET 9 PIECE RETROSPOT</td>\n",
       "      <td>France</td>\n",
       "    </tr>\n",
       "  </tbody>\n",
       "</table>\n",
       "<p>541909 rows × 4 columns</p>\n",
       "</div>"
      ],
      "text/plain": [
       "       invoice_no stock_code                          description  \\\n",
       "0          536365     85123A   WHITE HANGING HEART T-LIGHT HOLDER   \n",
       "1          536365      71053                  WHITE METAL LANTERN   \n",
       "2          536365     84406B       CREAM CUPID HEARTS COAT HANGER   \n",
       "3          536365     84029G  KNITTED UNION FLAG HOT WATER BOTTLE   \n",
       "4          536365     84029E       RED WOOLLY HOTTIE WHITE HEART.   \n",
       "...           ...        ...                                  ...   \n",
       "541904     581587      22613          PACK OF 20 SPACEBOY NAPKINS   \n",
       "541905     581587      22899         CHILDREN'S APRON DOLLY GIRL    \n",
       "541906     581587      23254        CHILDRENS CUTLERY DOLLY GIRL    \n",
       "541907     581587      23255      CHILDRENS CUTLERY CIRCUS PARADE   \n",
       "541908     581587      22138        BAKING SET 9 PIECE RETROSPOT    \n",
       "\n",
       "               country  \n",
       "0       United Kingdom  \n",
       "1       United Kingdom  \n",
       "2       United Kingdom  \n",
       "3       United Kingdom  \n",
       "4       United Kingdom  \n",
       "...                ...  \n",
       "541904          France  \n",
       "541905          France  \n",
       "541906          France  \n",
       "541907          France  \n",
       "541908          France  \n",
       "\n",
       "[541909 rows x 4 columns]"
      ]
     },
     "execution_count": 74,
     "metadata": {},
     "output_type": "execute_result"
    }
   ],
   "source": [
    "cat_attributes"
   ]
  },
  {
   "cell_type": "markdown",
   "id": "e56fe814",
   "metadata": {},
   "source": [
    "#### Invoice Number"
   ]
  },
  {
   "cell_type": "markdown",
   "id": "3eb74b1c",
   "metadata": {},
   "source": [
    "#### Stock Code"
   ]
  },
  {
   "cell_type": "code",
   "execution_count": 75,
   "id": "69d35f37",
   "metadata": {
    "ExecuteTime": {
     "end_time": "2022-07-29T13:42:25.913818Z",
     "start_time": "2022-07-29T13:42:25.440677Z"
    }
   },
   "outputs": [
    {
     "data": {
      "text/plain": [
       "array(['POST', 'D', 'DOT', 'M', 'S', 'AMAZONFEE', 'm', 'DCGSSBOY',\n",
       "       'DCGSSGIRL', 'PADS', 'B', 'CRUK'], dtype=object)"
      ]
     },
     "execution_count": 75,
     "metadata": {},
     "output_type": "execute_result"
    }
   ],
   "source": [
    "# check stock_code only characters\n",
    "df1.loc[df1['stock_code'].apply(lambda x: bool(re.search('^[a-zA-Z]+$', x))), 'stock_code'].unique()\n",
    "\n",
    "# Remove stock_code in ['POST', 'D', 'M', 'PADS', 'DOT', 'CRUK']"
   ]
  },
  {
   "cell_type": "markdown",
   "id": "73c0ed2c",
   "metadata": {},
   "source": [
    "#### Description"
   ]
  },
  {
   "cell_type": "code",
   "execution_count": 76,
   "id": "5dd7a404",
   "metadata": {
    "ExecuteTime": {
     "end_time": "2022-07-29T13:42:25.929822Z",
     "start_time": "2022-07-29T13:42:25.914818Z"
    }
   },
   "outputs": [],
   "source": [
    "# ====== Nothing ======"
   ]
  },
  {
   "cell_type": "markdown",
   "id": "ca88af97",
   "metadata": {},
   "source": [
    "#### Country"
   ]
  },
  {
   "cell_type": "code",
   "execution_count": 77,
   "id": "481b1fec",
   "metadata": {
    "ExecuteTime": {
     "end_time": "2022-07-29T13:42:25.961829Z",
     "start_time": "2022-07-29T13:42:25.930822Z"
    }
   },
   "outputs": [
    {
     "data": {
      "text/plain": [
       "array(['United Kingdom', 'France', 'Australia', 'Netherlands', 'Germany',\n",
       "       'Norway', 'EIRE', 'Switzerland', 'Spain', 'Poland', 'Portugal',\n",
       "       'Italy', 'Belgium', 'Lithuania', 'Japan', 'Iceland',\n",
       "       'Channel Islands', 'Denmark', 'Cyprus', 'Sweden', 'Austria',\n",
       "       'Israel', 'Finland', 'Bahrain', 'Greece', 'Hong Kong', 'Singapore',\n",
       "       'Lebanon', 'United Arab Emirates', 'Saudi Arabia',\n",
       "       'Czech Republic', 'Canada', 'Unspecified', 'Brazil', 'USA',\n",
       "       'European Community', 'Malta', 'RSA'], dtype=object)"
      ]
     },
     "execution_count": 77,
     "metadata": {},
     "output_type": "execute_result"
    }
   ],
   "source": [
    "df1['country'].unique()"
   ]
  },
  {
   "cell_type": "code",
   "execution_count": 78,
   "id": "3cc33552",
   "metadata": {
    "ExecuteTime": {
     "end_time": "2022-07-29T13:42:25.993836Z",
     "start_time": "2022-07-29T13:42:25.963830Z"
    }
   },
   "outputs": [
    {
     "data": {
      "text/plain": [
       "United Kingdom          0.914320\n",
       "Germany                 0.017521\n",
       "France                  0.015790\n",
       "EIRE                    0.015124\n",
       "Spain                   0.004674\n",
       "Netherlands             0.004375\n",
       "Belgium                 0.003818\n",
       "Switzerland             0.003694\n",
       "Portugal                0.002803\n",
       "Australia               0.002323\n",
       "Norway                  0.002004\n",
       "Italy                   0.001482\n",
       "Channel Islands         0.001399\n",
       "Finland                 0.001283\n",
       "Cyprus                  0.001148\n",
       "Sweden                  0.000853\n",
       "Unspecified             0.000823\n",
       "Austria                 0.000740\n",
       "Denmark                 0.000718\n",
       "Japan                   0.000661\n",
       "Poland                  0.000629\n",
       "Israel                  0.000548\n",
       "USA                     0.000537\n",
       "Hong Kong               0.000531\n",
       "Singapore               0.000423\n",
       "Iceland                 0.000336\n",
       "Canada                  0.000279\n",
       "Greece                  0.000269\n",
       "Malta                   0.000234\n",
       "United Arab Emirates    0.000125\n",
       "European Community      0.000113\n",
       "RSA                     0.000107\n",
       "Lebanon                 0.000083\n",
       "Lithuania               0.000065\n",
       "Brazil                  0.000059\n",
       "Czech Republic          0.000055\n",
       "Bahrain                 0.000035\n",
       "Saudi Arabia            0.000018\n",
       "Name: country, dtype: float64"
      ]
     },
     "execution_count": 78,
     "metadata": {},
     "output_type": "execute_result"
    }
   ],
   "source": [
    "df1['country'].value_counts(normalize=True)"
   ]
  },
  {
   "cell_type": "markdown",
   "id": "dfb8593a",
   "metadata": {
    "ExecuteTime": {
     "end_time": "2022-05-20T07:54:31.533471Z",
     "start_time": "2022-05-20T07:54:31.528060Z"
    }
   },
   "source": [
    "# 2.0. Features Filtering"
   ]
  },
  {
   "cell_type": "code",
   "execution_count": 79,
   "id": "b08d3f2c",
   "metadata": {
    "ExecuteTime": {
     "end_time": "2022-07-29T13:42:26.025073Z",
     "start_time": "2022-07-29T13:42:25.996836Z"
    }
   },
   "outputs": [],
   "source": [
    "df2 = df1.copy()"
   ]
  },
  {
   "cell_type": "code",
   "execution_count": 80,
   "id": "43b3ba17",
   "metadata": {
    "ExecuteTime": {
     "end_time": "2022-07-29T13:42:26.226980Z",
     "start_time": "2022-07-29T13:42:26.027052Z"
    }
   },
   "outputs": [],
   "source": [
    "# unit price > 0.0\n",
    "df2 = df2.loc[df2['unit_price'] > 0.04, :]\n",
    "\n",
    "# stock code != [POST, D, M, DOT, CRUK]\n",
    "df2 = df2[~df2['stock_code'].isin(['POST', 'D', 'DOT', 'M', 'S', 'AMAZONFEE', 'm', 'DCGSSBOY',\n",
    "                                   'DCGSSGIRL', 'PADS', 'B', 'CRUK'])]\n",
    "\n",
    "# description\n",
    "df2 = df2.drop(columns='description', axis=1)\n",
    "\n",
    "# map\n",
    "df2 = df2[~df2['country'].isin(['European Community', 'Unspecified'])]\n",
    "\n",
    "# quantity\n",
    "df2_returns = df2.loc[df2['quantity'] < 0, :]\n",
    "df2_purchases = df2.loc[df2['quantity'] > 0, :]"
   ]
  },
  {
   "cell_type": "markdown",
   "id": "4d2c56c8",
   "metadata": {},
   "source": [
    "# 3. Feature Engineering"
   ]
  },
  {
   "cell_type": "code",
   "execution_count": 81,
   "id": "f8204098",
   "metadata": {
    "ExecuteTime": {
     "end_time": "2022-07-29T13:42:26.257978Z",
     "start_time": "2022-07-29T13:42:26.229942Z"
    }
   },
   "outputs": [],
   "source": [
    "df3 = df2.copy()\n",
    "\n",
    "df3_returns = df2_returns\n",
    "df3_purchases = df2_purchases"
   ]
  },
  {
   "cell_type": "code",
   "execution_count": 82,
   "id": "82686656",
   "metadata": {
    "ExecuteTime": {
     "end_time": "2022-07-29T13:42:26.273980Z",
     "start_time": "2022-07-29T13:42:26.259979Z"
    }
   },
   "outputs": [],
   "source": [
    "# Feature Ideas:\n",
    "\n",
    "## Moving Average - 7d, 14d, 30d.\n",
    "## Quantidade de Compras por mês, antes do dia 15 e depois do dia 15."
   ]
  },
  {
   "cell_type": "markdown",
   "id": "96a23353",
   "metadata": {},
   "source": [
    "## 3.1. Feature Creation"
   ]
  },
  {
   "cell_type": "code",
   "execution_count": 83,
   "id": "7105dbc7",
   "metadata": {
    "ExecuteTime": {
     "end_time": "2022-07-29T13:42:26.305989Z",
     "start_time": "2022-07-29T13:42:26.274981Z"
    }
   },
   "outputs": [],
   "source": [
    "# data reference\n",
    "df_ref = df3.drop(['invoice_no', 'stock_code', 'quantity', 'invoice_date', 'unit_price', 'country'], axis=1).drop_duplicates(ignore_index=True)"
   ]
  },
  {
   "cell_type": "markdown",
   "id": "0dc12183",
   "metadata": {},
   "source": [
    "### 3.1.1. Gross Revenue"
   ]
  },
  {
   "cell_type": "code",
   "execution_count": 84,
   "id": "3a9eede6",
   "metadata": {
    "ExecuteTime": {
     "end_time": "2022-07-29T13:42:26.382648Z",
     "start_time": "2022-07-29T13:42:26.307991Z"
    }
   },
   "outputs": [],
   "source": [
    "# Gross Revenue\n",
    "df3_purchases['gross_revenue'] = df3_purchases['quantity'] * df3_purchases['unit_price']\n",
    "\n",
    "# Monetary\n",
    "df_monetary = df3_purchases.loc[:, ['customer_id', 'gross_revenue']].groupby('customer_id').sum().reset_index()\n",
    "df_ref = pd.merge(df_ref, df_monetary, on='customer_id', how='left')"
   ]
  },
  {
   "cell_type": "markdown",
   "id": "ff10d9c0",
   "metadata": {},
   "source": [
    "### 3.1.2. Recency - Last Day Purchase"
   ]
  },
  {
   "cell_type": "code",
   "execution_count": 85,
   "id": "792d9050",
   "metadata": {
    "ExecuteTime": {
     "end_time": "2022-07-29T13:42:26.444163Z",
     "start_time": "2022-07-29T13:42:26.384648Z"
    }
   },
   "outputs": [],
   "source": [
    "# Recency - Last Day Purchase\n",
    "df_recency = df3_purchases.loc[:, ['customer_id', 'invoice_date']].groupby('customer_id').max().reset_index()       \n",
    "df_recency['recency_days'] = (df3['invoice_date'].max() - df_recency['invoice_date']).dt.days\n",
    "df_recency = df_recency[['customer_id', 'recency_days']].copy()\n",
    "df_ref = pd.merge(df_ref, df_recency, on='customer_id', how='left')"
   ]
  },
  {
   "cell_type": "markdown",
   "id": "7510ef9d",
   "metadata": {},
   "source": [
    "### 3.1.3. Quantity of Purchased"
   ]
  },
  {
   "cell_type": "code",
   "execution_count": 86,
   "id": "88973710",
   "metadata": {
    "ExecuteTime": {
     "end_time": "2022-07-29T13:42:26.524181Z",
     "start_time": "2022-07-29T13:42:26.445164Z"
    }
   },
   "outputs": [],
   "source": [
    "# Number of Products\n",
    "df_quantity = (df3_purchases.loc[:,['customer_id', 'invoice_no']].drop_duplicates()\n",
    "                                                                .groupby('customer_id')\n",
    "                                                                .count()\n",
    "                                                                .reset_index()\n",
    "                                                                .rename(columns={'invoice_no':'qtde_invoices'}))\n",
    "               \n",
    "df_ref = pd.merge(df_ref, df_quantity, on='customer_id', how='left')"
   ]
  },
  {
   "cell_type": "markdown",
   "id": "f8084d19",
   "metadata": {},
   "source": [
    "### 3.1.4. Quantity of Items Purchased"
   ]
  },
  {
   "cell_type": "code",
   "execution_count": 87,
   "id": "c80efddf",
   "metadata": {
    "ExecuteTime": {
     "end_time": "2022-07-29T13:42:26.555481Z",
     "start_time": "2022-07-29T13:42:26.526183Z"
    }
   },
   "outputs": [],
   "source": [
    "# Quantity of Products Purchased\n",
    "df_freq = (df3_purchases.loc[:,['customer_id', 'quantity']].groupby('customer_id')\n",
    "                                                          .sum()\n",
    "                                                          .reset_index()\n",
    "                                                          .rename(columns={'quantity':'qtde_items'}))\n",
    "df_ref = pd.merge(df_ref, df_freq, on='customer_id', how='left')"
   ]
  },
  {
   "cell_type": "markdown",
   "id": "67c70e04",
   "metadata": {
    "ExecuteTime": {
     "end_time": "2022-07-29T13:39:21.439574Z",
     "start_time": "2022-07-29T13:39:21.426186Z"
    }
   },
   "source": [
    "### 3.1.4. Quantity of Products Purchased"
   ]
  },
  {
   "cell_type": "code",
   "execution_count": 88,
   "id": "5d1b3cb2",
   "metadata": {
    "ExecuteTime": {
     "end_time": "2022-07-29T13:42:26.683497Z",
     "start_time": "2022-07-29T13:42:26.556469Z"
    }
   },
   "outputs": [],
   "source": [
    "# Quantity of Items Purchased\n",
    "df_freq = (df3_purchases.loc[:,['customer_id', 'stock_code']].groupby('customer_id')\n",
    "                                                             .sum()\n",
    "                                                             .reset_index()\n",
    "                                                             .rename(columns={'stock_code':'qtde_products'}))\n",
    "df_ref = pd.merge(df_ref, df_freq, on='customer_id', how='left')"
   ]
  },
  {
   "cell_type": "markdown",
   "id": "ae26bf7a",
   "metadata": {},
   "source": [
    "### 3.1.5. Average Ticket Value"
   ]
  },
  {
   "cell_type": "code",
   "execution_count": 89,
   "id": "e4961aad",
   "metadata": {
    "ExecuteTime": {
     "end_time": "2022-07-29T13:42:26.715253Z",
     "start_time": "2022-07-29T13:42:26.684496Z"
    }
   },
   "outputs": [],
   "source": [
    "# Avg Ticket\n",
    "df_avg_ticket = df3_purchases.loc[:, ['customer_id', 'gross_revenue']].groupby('customer_id').mean().reset_index().rename(columns={'gross_revenue':'avg_ticket'})\n",
    "df_ref = pd.merge(df_ref, df_avg_ticket, on='customer_id', how='left')"
   ]
  },
  {
   "cell_type": "markdown",
   "id": "6845b022",
   "metadata": {},
   "source": [
    "### 3.1.6. Average Recency Days"
   ]
  },
  {
   "cell_type": "code",
   "execution_count": 90,
   "id": "f82e26ba",
   "metadata": {
    "ExecuteTime": {
     "end_time": "2022-07-29T13:42:27.230223Z",
     "start_time": "2022-07-29T13:42:26.717256Z"
    }
   },
   "outputs": [],
   "source": [
    "# Avg Recency Days\n",
    "df_aux = df3[['customer_id', 'invoice_date']].drop_duplicates().sort_values(['customer_id', 'invoice_date'], ascending=True)\n",
    "df_aux['next_customer_id'] = df_aux['customer_id'].shift() # next customer\n",
    "df_aux['previous_date'] = df_aux['invoice_date'].shift() # next invoice date\n",
    "\n",
    "df_aux['avg_recency_days'] = df_aux.apply(lambda x: (x['invoice_date'] - x['previous_date']) if x['customer_id'] == x['next_customer_id'] else np.nan, axis=1)\n",
    "\n",
    "# drop NA\n",
    "df_aux = df_aux.drop(['invoice_date', 'next_customer_id', 'previous_date'], axis=1).dropna()\n",
    "\n",
    "# average rececency\n",
    "df_avg_recency_days = df_aux.groupby('customer_id').mean().reset_index()\n",
    "df_avg_recency_days['avg_recency_days'] = df_avg_recency_days['avg_recency_days'].astype(str)\n",
    "df_avg_recency_days['avg_recency_days'] = df_avg_recency_days['avg_recency_days'].apply(lambda x: str(re.search(\"^.+s\", x).group(0)))\n",
    "\n",
    "df_ref = pd.merge(df_ref, df_avg_recency_days, on='customer_id', how='left')"
   ]
  },
  {
   "cell_type": "markdown",
   "id": "0f5bcd89",
   "metadata": {},
   "source": [
    "### 3.1.7. Frequency Purchase"
   ]
  },
  {
   "cell_type": "code",
   "execution_count": 91,
   "id": "6f4ccff6",
   "metadata": {
    "ExecuteTime": {
     "end_time": "2022-07-29T13:42:28.127543Z",
     "start_time": "2022-07-29T13:42:27.232204Z"
    }
   },
   "outputs": [],
   "source": [
    "df_aux = ( df3[['customer_id', 'invoice_no', 'invoice_date']].drop_duplicates()\n",
    "                                                              .groupby('customer_id')\n",
    "                                                              .agg(max_ = ('invoice_date', 'max'),\n",
    "                                                                   min_ = ('invoice_date', 'min'),\n",
    "                                                                   days_= ('invoice_date', lambda x: (x.max() - x.min()).days),\n",
    "                                                                   buy_ = ('invoice_no', 'count'))).reset_index()\n",
    "\n",
    "\n",
    "df_aux['frequency'] = df_aux[['buy_', 'days_']].apply(lambda x: x['buy_'] / x['days_'] if x['days_'] != 0 else 0, axis=1)\n",
    "\n",
    "# Merge\n",
    "df_ref = pd.merge(df_ref, df_aux[['customer_id', 'frequency']], on='customer_id', how='left')"
   ]
  },
  {
   "cell_type": "code",
   "execution_count": 92,
   "id": "2479f5b0",
   "metadata": {
    "ExecuteTime": {
     "end_time": "2022-07-29T13:42:28.142976Z",
     "start_time": "2022-07-29T13:42:28.129544Z"
    }
   },
   "outputs": [
    {
     "data": {
      "text/plain": [
       "customer_id            0\n",
       "gross_revenue         91\n",
       "recency_days          91\n",
       "qtde_invoices         91\n",
       "qtde_items            91\n",
       "qtde_products         91\n",
       "avg_ticket            91\n",
       "avg_recency_days    2816\n",
       "frequency              0\n",
       "dtype: int64"
      ]
     },
     "execution_count": 92,
     "metadata": {},
     "output_type": "execute_result"
    }
   ],
   "source": [
    "df_ref.isna().sum()"
   ]
  },
  {
   "cell_type": "markdown",
   "id": "8f3f7e5b",
   "metadata": {},
   "source": [
    "### 3.1.8. Number of Returns"
   ]
  },
  {
   "cell_type": "code",
   "execution_count": 93,
   "id": "f5d0a191",
   "metadata": {
    "ExecuteTime": {
     "end_time": "2022-07-29T13:42:28.174983Z",
     "start_time": "2022-07-29T13:42:28.144975Z"
    }
   },
   "outputs": [
    {
     "data": {
      "text/plain": [
       "customer_id            0\n",
       "gross_revenue         91\n",
       "recency_days          91\n",
       "qtde_invoices         91\n",
       "qtde_items            91\n",
       "qtde_products         91\n",
       "avg_ticket            91\n",
       "avg_recency_days    2816\n",
       "frequency              0\n",
       "qtde_returns           0\n",
       "dtype: int64"
      ]
     },
     "execution_count": 93,
     "metadata": {},
     "output_type": "execute_result"
    }
   ],
   "source": [
    "df_returns = df3_returns[['customer_id', 'quantity']].groupby('customer_id').sum().reset_index().rename(columns={'quantity':'qtde_returns'})\n",
    "df_returns['qtde_returns'] = df_returns['qtde_returns'] * -1\n",
    "\n",
    "df_ref = pd.merge(df_ref, df_returns, how='left', on='customer_id')\n",
    "df_ref.loc[df_ref['qtde_returns'].isna(), 'qtde_returns'] = 0\n",
    "\n",
    "df_ref.isna().sum()"
   ]
  },
  {
   "cell_type": "markdown",
   "id": "1920b242",
   "metadata": {},
   "source": [
    "### 3.1.9. Basket Size (Quantity)"
   ]
  },
  {
   "cell_type": "code",
   "execution_count": 94,
   "id": "6698a61a",
   "metadata": {
    "ExecuteTime": {
     "end_time": "2022-07-29T13:42:28.318393Z",
     "start_time": "2022-07-29T13:42:28.175984Z"
    }
   },
   "outputs": [
    {
     "data": {
      "text/plain": [
       "customer_id            0\n",
       "gross_revenue         91\n",
       "recency_days          91\n",
       "qtde_invoices         91\n",
       "qtde_items            91\n",
       "qtde_products         91\n",
       "avg_ticket            91\n",
       "avg_recency_days    2816\n",
       "frequency              0\n",
       "qtde_returns           0\n",
       "avg_basket_size       91\n",
       "dtype: int64"
      ]
     },
     "execution_count": 94,
     "metadata": {},
     "output_type": "execute_result"
    }
   ],
   "source": [
    "df_aux = (df3_purchases.loc[:, ['customer_id', 'invoice_no', 'quantity']].groupby('customer_id')\n",
    "                                                                               .agg(n_purchase=('invoice_no', 'nunique'),\n",
    "                                                                                    n_products=('quantity', 'sum'))\n",
    "                                                                               .reset_index())\n",
    "\n",
    "# calculation\n",
    "df_aux['avg_basket_size'] = df_aux['n_products'] / df_aux['n_purchase']\n",
    "\n",
    "# merge\n",
    "df_ref = pd.merge(df_ref, df_aux[['customer_id', 'avg_basket_size']], how='left', on='customer_id')\n",
    "df_ref.isna().sum()"
   ]
  },
  {
   "cell_type": "markdown",
   "id": "a45d75d2",
   "metadata": {},
   "source": [
    "### 3.2.0. Unique Basket Size"
   ]
  },
  {
   "cell_type": "code",
   "execution_count": 95,
   "id": "c69a265b",
   "metadata": {
    "ExecuteTime": {
     "end_time": "2022-07-29T13:42:28.446422Z",
     "start_time": "2022-07-29T13:42:28.321396Z"
    }
   },
   "outputs": [
    {
     "data": {
      "text/plain": [
       "customer_id                  0\n",
       "gross_revenue               91\n",
       "recency_days                91\n",
       "qtde_invoices               91\n",
       "qtde_items                  91\n",
       "qtde_products               91\n",
       "avg_ticket                  91\n",
       "avg_recency_days          2816\n",
       "frequency                    0\n",
       "qtde_returns                 0\n",
       "avg_basket_size             91\n",
       "avg_unique_basket_size      91\n",
       "dtype: int64"
      ]
     },
     "execution_count": 95,
     "metadata": {},
     "output_type": "execute_result"
    }
   ],
   "source": [
    "df_aux = (df3_purchases.loc[:, ['customer_id', 'invoice_no', 'stock_code']].groupby('customer_id')\n",
    "                                                                               .agg(n_purchase=('invoice_no', 'nunique'),\n",
    "                                                                                    n_products=('stock_code', 'count'))\n",
    "                                                                               .reset_index())\n",
    "\n",
    "# calculation\n",
    "df_aux['avg_unique_basket_size'] = df_aux['n_products'] / df_aux['n_purchase']\n",
    "\n",
    "# merge\n",
    "df_ref = pd.merge(df_ref, df_aux[['customer_id', 'avg_unique_basket_size']], how='left', on='customer_id')\n",
    "df_ref.isna().sum()"
   ]
  },
  {
   "cell_type": "markdown",
   "id": "3c673dad",
   "metadata": {},
   "source": [
    "### Final Ref"
   ]
  },
  {
   "cell_type": "code",
   "execution_count": 96,
   "id": "8e790754",
   "metadata": {
    "ExecuteTime": {
     "end_time": "2022-07-29T13:42:28.478429Z",
     "start_time": "2022-07-29T13:42:28.448423Z"
    },
    "hide_input": false
   },
   "outputs": [
    {
     "data": {
      "text/html": [
       "<div>\n",
       "<style scoped>\n",
       "    .dataframe tbody tr th:only-of-type {\n",
       "        vertical-align: middle;\n",
       "    }\n",
       "\n",
       "    .dataframe tbody tr th {\n",
       "        vertical-align: top;\n",
       "    }\n",
       "\n",
       "    .dataframe thead th {\n",
       "        text-align: right;\n",
       "    }\n",
       "</style>\n",
       "<table border=\"1\" class=\"dataframe\">\n",
       "  <thead>\n",
       "    <tr style=\"text-align: right;\">\n",
       "      <th></th>\n",
       "      <th>customer_id</th>\n",
       "      <th>gross_revenue</th>\n",
       "      <th>recency_days</th>\n",
       "      <th>qtde_invoices</th>\n",
       "      <th>qtde_items</th>\n",
       "      <th>qtde_products</th>\n",
       "      <th>avg_ticket</th>\n",
       "      <th>avg_recency_days</th>\n",
       "      <th>frequency</th>\n",
       "      <th>qtde_returns</th>\n",
       "      <th>avg_basket_size</th>\n",
       "      <th>avg_unique_basket_size</th>\n",
       "    </tr>\n",
       "  </thead>\n",
       "  <tbody>\n",
       "    <tr>\n",
       "      <th>0</th>\n",
       "      <td>17850</td>\n",
       "      <td>5391.21</td>\n",
       "      <td>372.0</td>\n",
       "      <td>34.0</td>\n",
       "      <td>1733.0</td>\n",
       "      <td>85123A7105384406B84029G84029E22752217302263322...</td>\n",
       "      <td>18.152222</td>\n",
       "      <td>35 days</td>\n",
       "      <td>0.492958</td>\n",
       "      <td>40.0</td>\n",
       "      <td>50.970588</td>\n",
       "      <td>8.735294</td>\n",
       "    </tr>\n",
       "    <tr>\n",
       "      <th>1</th>\n",
       "      <td>13047</td>\n",
       "      <td>3232.59</td>\n",
       "      <td>56.0</td>\n",
       "      <td>9.0</td>\n",
       "      <td>1390.0</td>\n",
       "      <td>8487922745227482274922310849692262322622217542...</td>\n",
       "      <td>18.904035</td>\n",
       "      <td>27 days</td>\n",
       "      <td>0.048930</td>\n",
       "      <td>35.0</td>\n",
       "      <td>154.444444</td>\n",
       "      <td>19.000000</td>\n",
       "    </tr>\n",
       "    <tr>\n",
       "      <th>2</th>\n",
       "      <td>12583</td>\n",
       "      <td>6705.38</td>\n",
       "      <td>2.0</td>\n",
       "      <td>15.0</td>\n",
       "      <td>5028.0</td>\n",
       "      <td>2272822727227262172421883100022179121035223262...</td>\n",
       "      <td>28.902500</td>\n",
       "      <td>23 days</td>\n",
       "      <td>0.045822</td>\n",
       "      <td>50.0</td>\n",
       "      <td>335.200000</td>\n",
       "      <td>15.466667</td>\n",
       "    </tr>\n",
       "    <tr>\n",
       "      <th>3</th>\n",
       "      <td>13748</td>\n",
       "      <td>948.25</td>\n",
       "      <td>95.0</td>\n",
       "      <td>5.0</td>\n",
       "      <td>439.0</td>\n",
       "      <td>2208622843228412283922423229072296122585220842...</td>\n",
       "      <td>33.866071</td>\n",
       "      <td>92 days</td>\n",
       "      <td>0.017986</td>\n",
       "      <td>0.0</td>\n",
       "      <td>87.800000</td>\n",
       "      <td>5.600000</td>\n",
       "    </tr>\n",
       "    <tr>\n",
       "      <th>4</th>\n",
       "      <td>15100</td>\n",
       "      <td>876.00</td>\n",
       "      <td>333.0</td>\n",
       "      <td>3.0</td>\n",
       "      <td>80.0</td>\n",
       "      <td>212582125821258</td>\n",
       "      <td>292.000000</td>\n",
       "      <td>8 days</td>\n",
       "      <td>0.139535</td>\n",
       "      <td>22.0</td>\n",
       "      <td>26.666667</td>\n",
       "      <td>1.000000</td>\n",
       "    </tr>\n",
       "    <tr>\n",
       "      <th>...</th>\n",
       "      <td>...</td>\n",
       "      <td>...</td>\n",
       "      <td>...</td>\n",
       "      <td>...</td>\n",
       "      <td>...</td>\n",
       "      <td>...</td>\n",
       "      <td>...</td>\n",
       "      <td>...</td>\n",
       "      <td>...</td>\n",
       "      <td>...</td>\n",
       "      <td>...</td>\n",
       "      <td>...</td>\n",
       "    </tr>\n",
       "    <tr>\n",
       "      <th>5782</th>\n",
       "      <td>22706</td>\n",
       "      <td>5699.00</td>\n",
       "      <td>1.0</td>\n",
       "      <td>1.0</td>\n",
       "      <td>1747.0</td>\n",
       "      <td>2333423336233372333823339233402334323344233462...</td>\n",
       "      <td>8.988959</td>\n",
       "      <td>NaN</td>\n",
       "      <td>0.000000</td>\n",
       "      <td>0.0</td>\n",
       "      <td>1747.000000</td>\n",
       "      <td>634.000000</td>\n",
       "    </tr>\n",
       "    <tr>\n",
       "      <th>5783</th>\n",
       "      <td>22707</td>\n",
       "      <td>6756.06</td>\n",
       "      <td>0.0</td>\n",
       "      <td>1.0</td>\n",
       "      <td>2010.0</td>\n",
       "      <td>2336923370233712337223375233762337723378233792...</td>\n",
       "      <td>9.254877</td>\n",
       "      <td>NaN</td>\n",
       "      <td>0.000000</td>\n",
       "      <td>0.0</td>\n",
       "      <td>2010.000000</td>\n",
       "      <td>730.000000</td>\n",
       "    </tr>\n",
       "    <tr>\n",
       "      <th>5784</th>\n",
       "      <td>22708</td>\n",
       "      <td>3217.20</td>\n",
       "      <td>0.0</td>\n",
       "      <td>1.0</td>\n",
       "      <td>654.0</td>\n",
       "      <td>2071920723207242072721212212382124221479214812...</td>\n",
       "      <td>54.528814</td>\n",
       "      <td>NaN</td>\n",
       "      <td>0.000000</td>\n",
       "      <td>0.0</td>\n",
       "      <td>654.000000</td>\n",
       "      <td>59.000000</td>\n",
       "    </tr>\n",
       "    <tr>\n",
       "      <th>5785</th>\n",
       "      <td>22709</td>\n",
       "      <td>3950.72</td>\n",
       "      <td>0.0</td>\n",
       "      <td>1.0</td>\n",
       "      <td>731.0</td>\n",
       "      <td>15056bl206692067920712207132071720718207262072...</td>\n",
       "      <td>18.206083</td>\n",
       "      <td>NaN</td>\n",
       "      <td>0.000000</td>\n",
       "      <td>0.0</td>\n",
       "      <td>731.000000</td>\n",
       "      <td>217.000000</td>\n",
       "    </tr>\n",
       "    <tr>\n",
       "      <th>5786</th>\n",
       "      <td>12713</td>\n",
       "      <td>794.55</td>\n",
       "      <td>0.0</td>\n",
       "      <td>1.0</td>\n",
       "      <td>505.0</td>\n",
       "      <td>2112421122211212338922556229762325584997D84997...</td>\n",
       "      <td>21.474324</td>\n",
       "      <td>NaN</td>\n",
       "      <td>0.000000</td>\n",
       "      <td>0.0</td>\n",
       "      <td>505.000000</td>\n",
       "      <td>37.000000</td>\n",
       "    </tr>\n",
       "  </tbody>\n",
       "</table>\n",
       "<p>5787 rows × 12 columns</p>\n",
       "</div>"
      ],
      "text/plain": [
       "      customer_id  gross_revenue  recency_days  qtde_invoices  qtde_items  \\\n",
       "0           17850        5391.21         372.0           34.0      1733.0   \n",
       "1           13047        3232.59          56.0            9.0      1390.0   \n",
       "2           12583        6705.38           2.0           15.0      5028.0   \n",
       "3           13748         948.25          95.0            5.0       439.0   \n",
       "4           15100         876.00         333.0            3.0        80.0   \n",
       "...           ...            ...           ...            ...         ...   \n",
       "5782        22706        5699.00           1.0            1.0      1747.0   \n",
       "5783        22707        6756.06           0.0            1.0      2010.0   \n",
       "5784        22708        3217.20           0.0            1.0       654.0   \n",
       "5785        22709        3950.72           0.0            1.0       731.0   \n",
       "5786        12713         794.55           0.0            1.0       505.0   \n",
       "\n",
       "                                          qtde_products  avg_ticket  \\\n",
       "0     85123A7105384406B84029G84029E22752217302263322...   18.152222   \n",
       "1     8487922745227482274922310849692262322622217542...   18.904035   \n",
       "2     2272822727227262172421883100022179121035223262...   28.902500   \n",
       "3     2208622843228412283922423229072296122585220842...   33.866071   \n",
       "4                                       212582125821258  292.000000   \n",
       "...                                                 ...         ...   \n",
       "5782  2333423336233372333823339233402334323344233462...    8.988959   \n",
       "5783  2336923370233712337223375233762337723378233792...    9.254877   \n",
       "5784  2071920723207242072721212212382124221479214812...   54.528814   \n",
       "5785  15056bl206692067920712207132071720718207262072...   18.206083   \n",
       "5786  2112421122211212338922556229762325584997D84997...   21.474324   \n",
       "\n",
       "     avg_recency_days  frequency  qtde_returns  avg_basket_size  \\\n",
       "0             35 days   0.492958          40.0        50.970588   \n",
       "1             27 days   0.048930          35.0       154.444444   \n",
       "2             23 days   0.045822          50.0       335.200000   \n",
       "3             92 days   0.017986           0.0        87.800000   \n",
       "4              8 days   0.139535          22.0        26.666667   \n",
       "...               ...        ...           ...              ...   \n",
       "5782              NaN   0.000000           0.0      1747.000000   \n",
       "5783              NaN   0.000000           0.0      2010.000000   \n",
       "5784              NaN   0.000000           0.0       654.000000   \n",
       "5785              NaN   0.000000           0.0       731.000000   \n",
       "5786              NaN   0.000000           0.0       505.000000   \n",
       "\n",
       "      avg_unique_basket_size  \n",
       "0                   8.735294  \n",
       "1                  19.000000  \n",
       "2                  15.466667  \n",
       "3                   5.600000  \n",
       "4                   1.000000  \n",
       "...                      ...  \n",
       "5782              634.000000  \n",
       "5783              730.000000  \n",
       "5784               59.000000  \n",
       "5785              217.000000  \n",
       "5786               37.000000  \n",
       "\n",
       "[5787 rows x 12 columns]"
      ]
     },
     "execution_count": 96,
     "metadata": {},
     "output_type": "execute_result"
    }
   ],
   "source": [
    "df_ref"
   ]
  },
  {
   "cell_type": "code",
   "execution_count": null,
   "id": "7ac83b62",
   "metadata": {},
   "outputs": [],
   "source": []
  },
  {
   "cell_type": "markdown",
   "id": "fd97fea0",
   "metadata": {},
   "source": [
    "# 4. Exploratory Data Analysis"
   ]
  },
  {
   "cell_type": "code",
   "execution_count": 97,
   "id": "1be07611",
   "metadata": {
    "ExecuteTime": {
     "end_time": "2022-07-29T13:42:28.494432Z",
     "start_time": "2022-07-29T13:42:28.479429Z"
    }
   },
   "outputs": [
    {
     "data": {
      "text/plain": [
       "customer_id               0\n",
       "gross_revenue             0\n",
       "recency_days              0\n",
       "qtde_invoices             0\n",
       "qtde_items                0\n",
       "qtde_products             0\n",
       "avg_ticket                0\n",
       "avg_recency_days          0\n",
       "frequency                 0\n",
       "qtde_returns              0\n",
       "avg_basket_size           0\n",
       "avg_unique_basket_size    0\n",
       "dtype: int64"
      ]
     },
     "execution_count": 97,
     "metadata": {},
     "output_type": "execute_result"
    }
   ],
   "source": [
    "df4 = df_ref.dropna()\n",
    "df4.isna().sum()"
   ]
  },
  {
   "cell_type": "markdown",
   "id": "c63407d0",
   "metadata": {},
   "source": [
    "## 4.1. Univariated Analysis"
   ]
  },
  {
   "cell_type": "code",
   "execution_count": 98,
   "id": "9635dfc0",
   "metadata": {
    "ExecuteTime": {
     "end_time": "2022-07-29T13:42:53.456942Z",
     "start_time": "2022-07-29T13:42:28.496435Z"
    }
   },
   "outputs": [
    {
     "name": "stderr",
     "output_type": "stream",
     "text": [
      "Summarize dataset: 100%|██████████| 147/147 [00:18<00:00,  7.99it/s, Completed]                                             \n",
      "Generate report structure: 100%|██████████| 1/1 [00:03<00:00,  3.54s/it]\n",
      "Render HTML: 100%|██████████| 1/1 [00:02<00:00,  2.98s/it]\n",
      "Export report to file: 100%|██████████| 1/1 [00:00<00:00, 38.46it/s]\n"
     ]
    }
   ],
   "source": [
    "profile = ProfileReport(df4)\n",
    "profile.to_file('output.html')"
   ]
  },
  {
   "cell_type": "markdown",
   "id": "01d7bf25",
   "metadata": {},
   "source": [
    "### 4.4.1 Gross Revenue"
   ]
  },
  {
   "cell_type": "code",
   "execution_count": 99,
   "id": "5f37b460",
   "metadata": {
    "ExecuteTime": {
     "end_time": "2022-07-29T13:42:53.472886Z",
     "start_time": "2022-07-29T13:42:53.457583Z"
    }
   },
   "outputs": [
    {
     "data": {
      "text/html": [
       "<div>\n",
       "<style scoped>\n",
       "    .dataframe tbody tr th:only-of-type {\n",
       "        vertical-align: middle;\n",
       "    }\n",
       "\n",
       "    .dataframe tbody tr th {\n",
       "        vertical-align: top;\n",
       "    }\n",
       "\n",
       "    .dataframe thead th {\n",
       "        text-align: right;\n",
       "    }\n",
       "</style>\n",
       "<table border=\"1\" class=\"dataframe\">\n",
       "  <thead>\n",
       "    <tr style=\"text-align: right;\">\n",
       "      <th></th>\n",
       "      <th>customer_id</th>\n",
       "      <th>gross_revenue</th>\n",
       "      <th>recency_days</th>\n",
       "      <th>qtde_invoices</th>\n",
       "      <th>qtde_items</th>\n",
       "      <th>qtde_products</th>\n",
       "      <th>avg_ticket</th>\n",
       "      <th>avg_recency_days</th>\n",
       "      <th>frequency</th>\n",
       "      <th>qtde_returns</th>\n",
       "      <th>avg_basket_size</th>\n",
       "      <th>avg_unique_basket_size</th>\n",
       "    </tr>\n",
       "  </thead>\n",
       "  <tbody>\n",
       "    <tr>\n",
       "      <th>1017</th>\n",
       "      <td>14646</td>\n",
       "      <td>279138.02</td>\n",
       "      <td>1.0</td>\n",
       "      <td>72.0</td>\n",
       "      <td>196844.0</td>\n",
       "      <td>2198121986227202193122613207512124622960223552...</td>\n",
       "      <td>135.503893</td>\n",
       "      <td>7 days</td>\n",
       "      <td>0.206799</td>\n",
       "      <td>288.0</td>\n",
       "      <td>2733.944444</td>\n",
       "      <td>28.611111</td>\n",
       "    </tr>\n",
       "    <tr>\n",
       "      <th>492</th>\n",
       "      <td>18102</td>\n",
       "      <td>259657.30</td>\n",
       "      <td>0.0</td>\n",
       "      <td>60.0</td>\n",
       "      <td>64124.0</td>\n",
       "      <td>8248422830221892218821623824842218922188227652...</td>\n",
       "      <td>602.453132</td>\n",
       "      <td>14 days</td>\n",
       "      <td>0.163488</td>\n",
       "      <td>0.0</td>\n",
       "      <td>1068.733333</td>\n",
       "      <td>7.183333</td>\n",
       "    </tr>\n",
       "    <tr>\n",
       "      <th>433</th>\n",
       "      <td>17450</td>\n",
       "      <td>194550.79</td>\n",
       "      <td>8.0</td>\n",
       "      <td>46.0</td>\n",
       "      <td>69993.0</td>\n",
       "      <td>2175622469224702173385123A22469224702288922887...</td>\n",
       "      <td>577.302047</td>\n",
       "      <td>12 days</td>\n",
       "      <td>0.136490</td>\n",
       "      <td>952.0</td>\n",
       "      <td>1521.586957</td>\n",
       "      <td>7.326087</td>\n",
       "    </tr>\n",
       "    <tr>\n",
       "      <th>3338</th>\n",
       "      <td>16446</td>\n",
       "      <td>168472.50</td>\n",
       "      <td>0.0</td>\n",
       "      <td>2.0</td>\n",
       "      <td>80997.0</td>\n",
       "      <td>229802298223843</td>\n",
       "      <td>56157.500000</td>\n",
       "      <td>205 days</td>\n",
       "      <td>0.014634</td>\n",
       "      <td>80995.0</td>\n",
       "      <td>40498.500000</td>\n",
       "      <td>1.500000</td>\n",
       "    </tr>\n",
       "    <tr>\n",
       "      <th>66</th>\n",
       "      <td>14911</td>\n",
       "      <td>140438.72</td>\n",
       "      <td>1.0</td>\n",
       "      <td>199.0</td>\n",
       "      <td>79963.0</td>\n",
       "      <td>2296885071A85071C22355215792157622147221502249...</td>\n",
       "      <td>24.768734</td>\n",
       "      <td>2 days</td>\n",
       "      <td>0.653226</td>\n",
       "      <td>3332.0</td>\n",
       "      <td>401.824121</td>\n",
       "      <td>28.492462</td>\n",
       "    </tr>\n",
       "  </tbody>\n",
       "</table>\n",
       "</div>"
      ],
      "text/plain": [
       "      customer_id  gross_revenue  recency_days  qtde_invoices  qtde_items  \\\n",
       "1017        14646      279138.02           1.0           72.0    196844.0   \n",
       "492         18102      259657.30           0.0           60.0     64124.0   \n",
       "433         17450      194550.79           8.0           46.0     69993.0   \n",
       "3338        16446      168472.50           0.0            2.0     80997.0   \n",
       "66          14911      140438.72           1.0          199.0     79963.0   \n",
       "\n",
       "                                          qtde_products    avg_ticket  \\\n",
       "1017  2198121986227202193122613207512124622960223552...    135.503893   \n",
       "492   8248422830221892218821623824842218922188227652...    602.453132   \n",
       "433   2175622469224702173385123A22469224702288922887...    577.302047   \n",
       "3338                                    229802298223843  56157.500000   \n",
       "66    2296885071A85071C22355215792157622147221502249...     24.768734   \n",
       "\n",
       "     avg_recency_days  frequency  qtde_returns  avg_basket_size  \\\n",
       "1017           7 days   0.206799         288.0      2733.944444   \n",
       "492           14 days   0.163488           0.0      1068.733333   \n",
       "433           12 days   0.136490         952.0      1521.586957   \n",
       "3338         205 days   0.014634       80995.0     40498.500000   \n",
       "66             2 days   0.653226        3332.0       401.824121   \n",
       "\n",
       "      avg_unique_basket_size  \n",
       "1017               28.611111  \n",
       "492                 7.183333  \n",
       "433                 7.326087  \n",
       "3338                1.500000  \n",
       "66                 28.492462  "
      ]
     },
     "execution_count": 99,
     "metadata": {},
     "output_type": "execute_result"
    }
   ],
   "source": [
    "df4.sort_values('gross_revenue', ascending=False).head()"
   ]
  },
  {
   "cell_type": "code",
   "execution_count": 100,
   "id": "13d849cb",
   "metadata": {
    "ExecuteTime": {
     "end_time": "2022-07-29T13:42:53.504891Z",
     "start_time": "2022-07-29T13:42:53.474885Z"
    }
   },
   "outputs": [
    {
     "data": {
      "text/html": [
       "<div>\n",
       "<style scoped>\n",
       "    .dataframe tbody tr th:only-of-type {\n",
       "        vertical-align: middle;\n",
       "    }\n",
       "\n",
       "    .dataframe tbody tr th {\n",
       "        vertical-align: top;\n",
       "    }\n",
       "\n",
       "    .dataframe thead th {\n",
       "        text-align: right;\n",
       "    }\n",
       "</style>\n",
       "<table border=\"1\" class=\"dataframe\">\n",
       "  <thead>\n",
       "    <tr style=\"text-align: right;\">\n",
       "      <th></th>\n",
       "      <th>invoice_no</th>\n",
       "      <th>stock_code</th>\n",
       "      <th>quantity</th>\n",
       "      <th>invoice_date</th>\n",
       "      <th>unit_price</th>\n",
       "      <th>country</th>\n",
       "      <th>customer_id</th>\n",
       "    </tr>\n",
       "  </thead>\n",
       "  <tbody>\n",
       "    <tr>\n",
       "      <th>37952</th>\n",
       "      <td>539491</td>\n",
       "      <td>21981</td>\n",
       "      <td>12</td>\n",
       "      <td>2016-12-18</td>\n",
       "      <td>0.29</td>\n",
       "      <td>Netherlands</td>\n",
       "      <td>14646</td>\n",
       "    </tr>\n",
       "    <tr>\n",
       "      <th>37953</th>\n",
       "      <td>539491</td>\n",
       "      <td>21986</td>\n",
       "      <td>12</td>\n",
       "      <td>2016-12-18</td>\n",
       "      <td>0.29</td>\n",
       "      <td>Netherlands</td>\n",
       "      <td>14646</td>\n",
       "    </tr>\n",
       "    <tr>\n",
       "      <th>37954</th>\n",
       "      <td>539491</td>\n",
       "      <td>22720</td>\n",
       "      <td>2</td>\n",
       "      <td>2016-12-18</td>\n",
       "      <td>4.95</td>\n",
       "      <td>Netherlands</td>\n",
       "      <td>14646</td>\n",
       "    </tr>\n",
       "    <tr>\n",
       "      <th>37955</th>\n",
       "      <td>539491</td>\n",
       "      <td>21931</td>\n",
       "      <td>1</td>\n",
       "      <td>2016-12-18</td>\n",
       "      <td>1.95</td>\n",
       "      <td>Netherlands</td>\n",
       "      <td>14646</td>\n",
       "    </tr>\n",
       "    <tr>\n",
       "      <th>37956</th>\n",
       "      <td>539491</td>\n",
       "      <td>22613</td>\n",
       "      <td>2</td>\n",
       "      <td>2016-12-18</td>\n",
       "      <td>0.85</td>\n",
       "      <td>Netherlands</td>\n",
       "      <td>14646</td>\n",
       "    </tr>\n",
       "    <tr>\n",
       "      <th>...</th>\n",
       "      <td>...</td>\n",
       "      <td>...</td>\n",
       "      <td>...</td>\n",
       "      <td>...</td>\n",
       "      <td>...</td>\n",
       "      <td>...</td>\n",
       "      <td>...</td>\n",
       "    </tr>\n",
       "    <tr>\n",
       "      <th>534958</th>\n",
       "      <td>581176</td>\n",
       "      <td>22908</td>\n",
       "      <td>96</td>\n",
       "      <td>2017-12-05</td>\n",
       "      <td>0.72</td>\n",
       "      <td>Netherlands</td>\n",
       "      <td>14646</td>\n",
       "    </tr>\n",
       "    <tr>\n",
       "      <th>534959</th>\n",
       "      <td>581176</td>\n",
       "      <td>22907</td>\n",
       "      <td>96</td>\n",
       "      <td>2017-12-05</td>\n",
       "      <td>0.72</td>\n",
       "      <td>Netherlands</td>\n",
       "      <td>14646</td>\n",
       "    </tr>\n",
       "    <tr>\n",
       "      <th>534960</th>\n",
       "      <td>581176</td>\n",
       "      <td>22029</td>\n",
       "      <td>72</td>\n",
       "      <td>2017-12-05</td>\n",
       "      <td>0.36</td>\n",
       "      <td>Netherlands</td>\n",
       "      <td>14646</td>\n",
       "    </tr>\n",
       "    <tr>\n",
       "      <th>534961</th>\n",
       "      <td>581176</td>\n",
       "      <td>22712</td>\n",
       "      <td>72</td>\n",
       "      <td>2017-12-05</td>\n",
       "      <td>0.36</td>\n",
       "      <td>Netherlands</td>\n",
       "      <td>14646</td>\n",
       "    </tr>\n",
       "    <tr>\n",
       "      <th>537783</th>\n",
       "      <td>581338</td>\n",
       "      <td>23344</td>\n",
       "      <td>140</td>\n",
       "      <td>2017-12-06</td>\n",
       "      <td>1.79</td>\n",
       "      <td>Netherlands</td>\n",
       "      <td>14646</td>\n",
       "    </tr>\n",
       "  </tbody>\n",
       "</table>\n",
       "<p>2062 rows × 7 columns</p>\n",
       "</div>"
      ],
      "text/plain": [
       "       invoice_no stock_code  quantity invoice_date  unit_price      country  \\\n",
       "37952      539491      21981        12   2016-12-18        0.29  Netherlands   \n",
       "37953      539491      21986        12   2016-12-18        0.29  Netherlands   \n",
       "37954      539491      22720         2   2016-12-18        4.95  Netherlands   \n",
       "37955      539491      21931         1   2016-12-18        1.95  Netherlands   \n",
       "37956      539491      22613         2   2016-12-18        0.85  Netherlands   \n",
       "...           ...        ...       ...          ...         ...          ...   \n",
       "534958     581176      22908        96   2017-12-05        0.72  Netherlands   \n",
       "534959     581176      22907        96   2017-12-05        0.72  Netherlands   \n",
       "534960     581176      22029        72   2017-12-05        0.36  Netherlands   \n",
       "534961     581176      22712        72   2017-12-05        0.36  Netherlands   \n",
       "537783     581338      23344       140   2017-12-06        1.79  Netherlands   \n",
       "\n",
       "        customer_id  \n",
       "37952         14646  \n",
       "37953         14646  \n",
       "37954         14646  \n",
       "37955         14646  \n",
       "37956         14646  \n",
       "...             ...  \n",
       "534958        14646  \n",
       "534959        14646  \n",
       "534960        14646  \n",
       "534961        14646  \n",
       "537783        14646  \n",
       "\n",
       "[2062 rows x 7 columns]"
      ]
     },
     "execution_count": 100,
     "metadata": {},
     "output_type": "execute_result"
    }
   ],
   "source": [
    "df3[df3['customer_id'] == 14646]"
   ]
  },
  {
   "cell_type": "code",
   "execution_count": 101,
   "id": "a69bd0c4",
   "metadata": {
    "ExecuteTime": {
     "end_time": "2022-07-29T13:42:53.520895Z",
     "start_time": "2022-07-29T13:42:53.506893Z"
    }
   },
   "outputs": [
    {
     "data": {
      "text/plain": [
       "278778.02"
      ]
     },
     "execution_count": 101,
     "metadata": {},
     "output_type": "execute_result"
    }
   ],
   "source": [
    "np.sum(df3.loc[df3['customer_id'] == 14646, 'quantity'] * df3.loc[df3['customer_id'] == 14646, 'unit_price'])"
   ]
  },
  {
   "cell_type": "code",
   "execution_count": 106,
   "id": "77314ab7",
   "metadata": {
    "ExecuteTime": {
     "end_time": "2022-07-29T13:43:44.557154Z",
     "start_time": "2022-07-29T13:43:44.539151Z"
    }
   },
   "outputs": [
    {
     "data": {
      "text/plain": [
       "196556"
      ]
     },
     "execution_count": 106,
     "metadata": {},
     "output_type": "execute_result"
    }
   ],
   "source": [
    "df3.loc[df3['customer_id'] == 14646, 'quantity'].sum()"
   ]
  },
  {
   "cell_type": "code",
   "execution_count": null,
   "id": "cbfce01e",
   "metadata": {},
   "outputs": [],
   "source": []
  },
  {
   "cell_type": "markdown",
   "id": "44c895ae",
   "metadata": {},
   "source": [
    "## 4.2. Bivariated Analysis"
   ]
  },
  {
   "cell_type": "code",
   "execution_count": null,
   "id": "5653da1b",
   "metadata": {},
   "outputs": [],
   "source": []
  },
  {
   "cell_type": "markdown",
   "id": "8175588f",
   "metadata": {},
   "source": [
    "# 5. Data Preparation"
   ]
  },
  {
   "cell_type": "code",
   "execution_count": 103,
   "id": "6e780a81",
   "metadata": {
    "ExecuteTime": {
     "end_time": "2022-07-29T13:42:53.552903Z",
     "start_time": "2022-07-29T13:42:53.538900Z"
    }
   },
   "outputs": [],
   "source": [
    "df5 = df4.copy()"
   ]
  },
  {
   "cell_type": "code",
   "execution_count": 104,
   "id": "77034fc6",
   "metadata": {
    "ExecuteTime": {
     "end_time": "2022-07-29T13:42:54.918491Z",
     "start_time": "2022-07-29T13:42:53.555904Z"
    }
   },
   "outputs": [
    {
     "ename": "KeyError",
     "evalue": "\"None of [Index(['invoice_no'], dtype='object')] are in the [columns]\"",
     "output_type": "error",
     "traceback": [
      "\u001b[1;31m---------------------------------------------------------------------------\u001b[0m",
      "\u001b[1;31mKeyError\u001b[0m                                  Traceback (most recent call last)",
      "Input \u001b[1;32mIn [104]\u001b[0m, in \u001b[0;36m<cell line: 6>\u001b[1;34m()\u001b[0m\n\u001b[0;32m      4\u001b[0m df5[\u001b[38;5;124m'\u001b[39m\u001b[38;5;124mgross_revenue\u001b[39m\u001b[38;5;124m'\u001b[39m] \u001b[38;5;241m=\u001b[39m ss\u001b[38;5;241m.\u001b[39mfit_transform(df5[[\u001b[38;5;124m'\u001b[39m\u001b[38;5;124mgross_revenue\u001b[39m\u001b[38;5;124m'\u001b[39m]])\n\u001b[0;32m      5\u001b[0m df5[\u001b[38;5;124m'\u001b[39m\u001b[38;5;124mrecency_days\u001b[39m\u001b[38;5;124m'\u001b[39m] \u001b[38;5;241m=\u001b[39m ss\u001b[38;5;241m.\u001b[39mfit_transform(df5[[\u001b[38;5;124m'\u001b[39m\u001b[38;5;124mrecency_days\u001b[39m\u001b[38;5;124m'\u001b[39m]])\n\u001b[1;32m----> 6\u001b[0m df5[\u001b[38;5;124m'\u001b[39m\u001b[38;5;124minvoice_no\u001b[39m\u001b[38;5;124m'\u001b[39m] \u001b[38;5;241m=\u001b[39m ss\u001b[38;5;241m.\u001b[39mfit_transform(\u001b[43mdf5\u001b[49m\u001b[43m[\u001b[49m\u001b[43m[\u001b[49m\u001b[38;5;124;43m'\u001b[39;49m\u001b[38;5;124;43minvoice_no\u001b[39;49m\u001b[38;5;124;43m'\u001b[39;49m\u001b[43m]\u001b[49m\u001b[43m]\u001b[49m)\n\u001b[0;32m      7\u001b[0m df5[\u001b[38;5;124m'\u001b[39m\u001b[38;5;124mavg_ticket\u001b[39m\u001b[38;5;124m'\u001b[39m] \u001b[38;5;241m=\u001b[39m ss\u001b[38;5;241m.\u001b[39mfit_transform(df5[[\u001b[38;5;124m'\u001b[39m\u001b[38;5;124mavg_ticket\u001b[39m\u001b[38;5;124m'\u001b[39m]])\n",
      "File \u001b[1;32m~\\Anaconda3\\envs\\insiders_clustering\\lib\\site-packages\\pandas\\core\\frame.py:3511\u001b[0m, in \u001b[0;36mDataFrame.__getitem__\u001b[1;34m(self, key)\u001b[0m\n\u001b[0;32m   3509\u001b[0m     \u001b[38;5;28;01mif\u001b[39;00m is_iterator(key):\n\u001b[0;32m   3510\u001b[0m         key \u001b[38;5;241m=\u001b[39m \u001b[38;5;28mlist\u001b[39m(key)\n\u001b[1;32m-> 3511\u001b[0m     indexer \u001b[38;5;241m=\u001b[39m \u001b[38;5;28;43mself\u001b[39;49m\u001b[38;5;241;43m.\u001b[39;49m\u001b[43mcolumns\u001b[49m\u001b[38;5;241;43m.\u001b[39;49m\u001b[43m_get_indexer_strict\u001b[49m\u001b[43m(\u001b[49m\u001b[43mkey\u001b[49m\u001b[43m,\u001b[49m\u001b[43m \u001b[49m\u001b[38;5;124;43m\"\u001b[39;49m\u001b[38;5;124;43mcolumns\u001b[39;49m\u001b[38;5;124;43m\"\u001b[39;49m\u001b[43m)\u001b[49m[\u001b[38;5;241m1\u001b[39m]\n\u001b[0;32m   3513\u001b[0m \u001b[38;5;66;03m# take() does not accept boolean indexers\u001b[39;00m\n\u001b[0;32m   3514\u001b[0m \u001b[38;5;28;01mif\u001b[39;00m \u001b[38;5;28mgetattr\u001b[39m(indexer, \u001b[38;5;124m\"\u001b[39m\u001b[38;5;124mdtype\u001b[39m\u001b[38;5;124m\"\u001b[39m, \u001b[38;5;28;01mNone\u001b[39;00m) \u001b[38;5;241m==\u001b[39m \u001b[38;5;28mbool\u001b[39m:\n",
      "File \u001b[1;32m~\\Anaconda3\\envs\\insiders_clustering\\lib\\site-packages\\pandas\\core\\indexes\\base.py:5782\u001b[0m, in \u001b[0;36mIndex._get_indexer_strict\u001b[1;34m(self, key, axis_name)\u001b[0m\n\u001b[0;32m   5779\u001b[0m \u001b[38;5;28;01melse\u001b[39;00m:\n\u001b[0;32m   5780\u001b[0m     keyarr, indexer, new_indexer \u001b[38;5;241m=\u001b[39m \u001b[38;5;28mself\u001b[39m\u001b[38;5;241m.\u001b[39m_reindex_non_unique(keyarr)\n\u001b[1;32m-> 5782\u001b[0m \u001b[38;5;28;43mself\u001b[39;49m\u001b[38;5;241;43m.\u001b[39;49m\u001b[43m_raise_if_missing\u001b[49m\u001b[43m(\u001b[49m\u001b[43mkeyarr\u001b[49m\u001b[43m,\u001b[49m\u001b[43m \u001b[49m\u001b[43mindexer\u001b[49m\u001b[43m,\u001b[49m\u001b[43m \u001b[49m\u001b[43maxis_name\u001b[49m\u001b[43m)\u001b[49m\n\u001b[0;32m   5784\u001b[0m keyarr \u001b[38;5;241m=\u001b[39m \u001b[38;5;28mself\u001b[39m\u001b[38;5;241m.\u001b[39mtake(indexer)\n\u001b[0;32m   5785\u001b[0m \u001b[38;5;28;01mif\u001b[39;00m \u001b[38;5;28misinstance\u001b[39m(key, Index):\n\u001b[0;32m   5786\u001b[0m     \u001b[38;5;66;03m# GH 42790 - Preserve name from an Index\u001b[39;00m\n",
      "File \u001b[1;32m~\\Anaconda3\\envs\\insiders_clustering\\lib\\site-packages\\pandas\\core\\indexes\\base.py:5842\u001b[0m, in \u001b[0;36mIndex._raise_if_missing\u001b[1;34m(self, key, indexer, axis_name)\u001b[0m\n\u001b[0;32m   5840\u001b[0m     \u001b[38;5;28;01mif\u001b[39;00m use_interval_msg:\n\u001b[0;32m   5841\u001b[0m         key \u001b[38;5;241m=\u001b[39m \u001b[38;5;28mlist\u001b[39m(key)\n\u001b[1;32m-> 5842\u001b[0m     \u001b[38;5;28;01mraise\u001b[39;00m \u001b[38;5;167;01mKeyError\u001b[39;00m(\u001b[38;5;124mf\u001b[39m\u001b[38;5;124m\"\u001b[39m\u001b[38;5;124mNone of [\u001b[39m\u001b[38;5;132;01m{\u001b[39;00mkey\u001b[38;5;132;01m}\u001b[39;00m\u001b[38;5;124m] are in the [\u001b[39m\u001b[38;5;132;01m{\u001b[39;00maxis_name\u001b[38;5;132;01m}\u001b[39;00m\u001b[38;5;124m]\u001b[39m\u001b[38;5;124m\"\u001b[39m)\n\u001b[0;32m   5844\u001b[0m not_found \u001b[38;5;241m=\u001b[39m \u001b[38;5;28mlist\u001b[39m(ensure_index(key)[missing_mask\u001b[38;5;241m.\u001b[39mnonzero()[\u001b[38;5;241m0\u001b[39m]]\u001b[38;5;241m.\u001b[39munique())\n\u001b[0;32m   5845\u001b[0m \u001b[38;5;28;01mraise\u001b[39;00m \u001b[38;5;167;01mKeyError\u001b[39;00m(\u001b[38;5;124mf\u001b[39m\u001b[38;5;124m\"\u001b[39m\u001b[38;5;132;01m{\u001b[39;00mnot_found\u001b[38;5;132;01m}\u001b[39;00m\u001b[38;5;124m not in index\u001b[39m\u001b[38;5;124m\"\u001b[39m)\n",
      "\u001b[1;31mKeyError\u001b[0m: \"None of [Index(['invoice_no'], dtype='object')] are in the [columns]\""
     ]
    }
   ],
   "source": [
    "# Standard Scaler\n",
    "ss = pp.StandardScaler()\n",
    "\n",
    "df5['gross_revenue'] = ss.fit_transform(df5[['gross_revenue']])\n",
    "df5['recency_days'] = ss.fit_transform(df5[['recency_days']])\n",
    "df5['invoice_no'] = ss.fit_transform(df5[['invoice_no']])\n",
    "df5['avg_ticket'] = ss.fit_transform(df5[['avg_ticket']])"
   ]
  },
  {
   "cell_type": "markdown",
   "id": "21d7fe9c",
   "metadata": {},
   "source": [
    "# 6. Feature Selection"
   ]
  },
  {
   "cell_type": "code",
   "execution_count": null,
   "id": "0dd6c885",
   "metadata": {
    "ExecuteTime": {
     "end_time": "2022-07-29T13:42:54.920489Z",
     "start_time": "2022-07-29T13:42:54.920489Z"
    }
   },
   "outputs": [],
   "source": [
    "df6 = df5.copy()"
   ]
  },
  {
   "cell_type": "markdown",
   "id": "8af3fc86",
   "metadata": {},
   "source": [
    "# 7. Hyperparameter Fine-Tuning"
   ]
  },
  {
   "cell_type": "code",
   "execution_count": null,
   "id": "37324725",
   "metadata": {
    "ExecuteTime": {
     "end_time": "2022-07-29T13:42:54.921498Z",
     "start_time": "2022-07-29T13:42:54.921498Z"
    }
   },
   "outputs": [],
   "source": [
    "df7 = df6.drop(columns=['customer_id'])"
   ]
  },
  {
   "cell_type": "code",
   "execution_count": null,
   "id": "09a5c536",
   "metadata": {
    "ExecuteTime": {
     "end_time": "2022-07-29T13:42:54.922487Z",
     "start_time": "2022-07-29T13:42:54.922487Z"
    }
   },
   "outputs": [],
   "source": [
    "clusters = [2, 3, 4, 5, 6, 7]"
   ]
  },
  {
   "cell_type": "markdown",
   "id": "1d8925a2",
   "metadata": {},
   "source": [
    "## 7.1. Within-Cluster Sum of Square (WSS)"
   ]
  },
  {
   "cell_type": "code",
   "execution_count": null,
   "id": "07fd74e6",
   "metadata": {
    "ExecuteTime": {
     "end_time": "2022-07-29T13:42:54.923487Z",
     "start_time": "2022-07-29T13:42:54.923487Z"
    },
    "scrolled": false
   },
   "outputs": [],
   "source": [
    "kmeans = KElbowVisualizer(c.KMeans(), k=clusters, timings=False)\n",
    "kmeans.fit(df7)\n",
    "kmeans.show();"
   ]
  },
  {
   "cell_type": "markdown",
   "id": "5d22793e",
   "metadata": {},
   "source": [
    "## 7.2. Silhouette Score"
   ]
  },
  {
   "cell_type": "code",
   "execution_count": null,
   "id": "a31e701b",
   "metadata": {
    "ExecuteTime": {
     "end_time": "2022-07-29T13:42:54.924486Z",
     "start_time": "2022-07-29T13:42:54.924486Z"
    }
   },
   "outputs": [],
   "source": [
    "kmeans = KElbowVisualizer(c.KMeans(), k=clusters, metric='silhouette', timings=False)\n",
    "kmeans.fit(df7);\n",
    "kmeans.show();"
   ]
  },
  {
   "cell_type": "markdown",
   "id": "60208a52",
   "metadata": {},
   "source": [
    "### 7.2.1. Silhouette Analysis"
   ]
  },
  {
   "cell_type": "code",
   "execution_count": null,
   "id": "7334fee0",
   "metadata": {
    "ExecuteTime": {
     "end_time": "2022-07-29T13:42:54.925488Z",
     "start_time": "2022-07-29T13:42:54.925488Z"
    },
    "scrolled": false
   },
   "outputs": [],
   "source": [
    "fig, ax = plt.subplots(3, 2, figsize=(25, 18))\n",
    "\n",
    "for k in clusters:\n",
    "    km = c.KMeans(n_clusters=k, init='random', n_init=10, max_iter=100, random_state=42)\n",
    "    q, mod = divmod(k, 2)\n",
    "    visualizer = SilhouetteVisualizer(km, color='yellowbrick', ax=ax[q-1][mod])\n",
    "    visualizer.fit(df7);\n",
    "    visualizer.finalize()"
   ]
  },
  {
   "cell_type": "markdown",
   "id": "7630e321",
   "metadata": {},
   "source": [
    "# 8. Model Training"
   ]
  },
  {
   "cell_type": "code",
   "execution_count": null,
   "id": "c5cabbca",
   "metadata": {
    "ExecuteTime": {
     "end_time": "2022-07-29T13:42:54.926486Z",
     "start_time": "2022-07-29T13:42:54.926486Z"
    }
   },
   "outputs": [],
   "source": [
    "df8 = df7.copy()"
   ]
  },
  {
   "cell_type": "markdown",
   "id": "4ff93324",
   "metadata": {},
   "source": [
    "## 8.1. K-Means"
   ]
  },
  {
   "cell_type": "code",
   "execution_count": null,
   "id": "1a4820a4",
   "metadata": {
    "ExecuteTime": {
     "end_time": "2022-07-29T13:42:54.927489Z",
     "start_time": "2022-07-29T13:42:54.927489Z"
    }
   },
   "outputs": [],
   "source": [
    "# model definition\n",
    "k = 3\n",
    "kmeans = c.KMeans(init='random', n_clusters=k, n_init=10, max_iter=300)\n",
    "\n",
    "# model training\n",
    "kmeans.fit(df8)\n",
    "\n",
    "# clustering\n",
    "labels = kmeans.labels_"
   ]
  },
  {
   "cell_type": "markdown",
   "id": "bdafca85",
   "metadata": {},
   "source": [
    "## 8.2. Cluster Validation"
   ]
  },
  {
   "cell_type": "code",
   "execution_count": null,
   "id": "86e20c13",
   "metadata": {
    "ExecuteTime": {
     "end_time": "2022-07-29T13:42:54.929489Z",
     "start_time": "2022-07-29T13:42:54.929489Z"
    }
   },
   "outputs": [],
   "source": [
    "## WSS ( Within-Cluster Sum of Square)\n",
    "print('WSS Value: {}'.format(kmeans.inertia_))\n",
    "\n",
    "## SS (Silhouette Score)\n",
    "print('Silhouette Score: {}'.format(m.silhouette_score(df8, labels, metric='euclidean')))"
   ]
  },
  {
   "cell_type": "markdown",
   "id": "1e0baf16",
   "metadata": {},
   "source": [
    "# 9. Cluster Analysis"
   ]
  },
  {
   "cell_type": "code",
   "execution_count": null,
   "id": "4a8884c3",
   "metadata": {
    "ExecuteTime": {
     "end_time": "2022-07-29T13:42:54.930488Z",
     "start_time": "2022-07-29T13:42:54.930488Z"
    }
   },
   "outputs": [],
   "source": [
    "df9 = df6.copy()\n",
    "df9['cluster'] = labels"
   ]
  },
  {
   "cell_type": "code",
   "execution_count": null,
   "id": "dccb91b9",
   "metadata": {
    "ExecuteTime": {
     "end_time": "2022-07-29T13:42:54.931487Z",
     "start_time": "2022-07-29T13:42:54.931487Z"
    }
   },
   "outputs": [],
   "source": [
    "df9"
   ]
  },
  {
   "cell_type": "markdown",
   "id": "0ffecd84",
   "metadata": {},
   "source": [
    "## 9.1. Visualization Inspection"
   ]
  },
  {
   "cell_type": "code",
   "execution_count": null,
   "id": "ec1b59b2",
   "metadata": {
    "ExecuteTime": {
     "end_time": "2022-07-29T13:42:54.932488Z",
     "start_time": "2022-07-29T13:42:54.932488Z"
    }
   },
   "outputs": [],
   "source": [
    "visualizer = SilhouetteVisualizer(kmeans, colors='yellowbrick')\n",
    "visualizer.fit(df8)\n",
    "visualizer.finalize()"
   ]
  },
  {
   "cell_type": "markdown",
   "id": "c1c893ef",
   "metadata": {},
   "source": [
    "## 9.2. 2D Plot"
   ]
  },
  {
   "cell_type": "code",
   "execution_count": null,
   "id": "5ed620ae",
   "metadata": {
    "ExecuteTime": {
     "end_time": "2022-07-29T13:42:54.934490Z",
     "start_time": "2022-07-29T13:42:54.934490Z"
    }
   },
   "outputs": [],
   "source": [
    "df_viz = df9.drop(columns='customer_id', axis=1)\n",
    "sns.pairplot(df_viz, hue='cluster')"
   ]
  },
  {
   "cell_type": "markdown",
   "id": "f871c618",
   "metadata": {},
   "source": [
    "## 9.3. UMAP - t-SNE"
   ]
  },
  {
   "cell_type": "code",
   "execution_count": null,
   "id": "a553738a",
   "metadata": {
    "ExecuteTime": {
     "end_time": "2022-07-29T13:42:54.936489Z",
     "start_time": "2022-07-29T13:42:54.936489Z"
    },
    "scrolled": false
   },
   "outputs": [],
   "source": [
    "reducer = umap.UMAP(n_neighbors=50, random_state=42)\n",
    "embedding = reducer.fit_transform(df8)\n",
    "\n",
    "# embedding\n",
    "df9['embedding_x'] = embedding[:, 0]\n",
    "df9['embedding_y'] = embedding[:, 1]\n",
    "\n",
    "# plot UMAP\n",
    "sns.scatterplot(x='embedding_x', y='embedding_y', \n",
    "                hue='cluster',\n",
    "                palette=sns.color_palette('hls', n_colors=len(df9['cluster'].unique())),\n",
    "                data=df9);"
   ]
  },
  {
   "cell_type": "markdown",
   "id": "8624fbf1",
   "metadata": {},
   "source": [
    "## 9.2. Cluster Profile"
   ]
  },
  {
   "cell_type": "code",
   "execution_count": null,
   "id": "4f08f985",
   "metadata": {
    "ExecuteTime": {
     "end_time": "2022-07-29T13:42:54.937490Z",
     "start_time": "2022-07-29T13:42:54.937490Z"
    }
   },
   "outputs": [],
   "source": [
    "# Number of Customer\n",
    "df_cluster = df9[['customer_id', 'cluster']].groupby('cluster').count().reset_index()\n",
    "df_cluster['perc_customer'] = 100*(df_cluster['customer_id'] / df_cluster['customer_id'].sum())\n",
    "\n",
    "# Average Gross Revenue\n",
    "df_avg_gross_revenue = df9[['gross_revenue', 'cluster']].groupby('cluster').mean().reset_index()\n",
    "df_cluster = pd.merge(df_cluster, df_avg_gross_revenue, how='inner', on='cluster')\n",
    "\n",
    "# Average Recency days\n",
    "df_avg_recency_days = df9[['recency_days', 'cluster']].groupby('cluster').mean().reset_index()\n",
    "df_cluster = pd.merge(df_cluster, df_avg_recency_days, how='inner', on='cluster')\n",
    "\n",
    "# Average Invoice Number\n",
    "df_avg_invoice_no = df9[['invoice_no', 'cluster']].groupby('cluster').mean().reset_index()\n",
    "df_cluster = pd.merge(df_cluster, df_avg_invoice_no, how='inner', on='cluster')\n",
    "\n",
    "# Average Ticket\n",
    "df_avg_ticket = df9[['avg_ticket', 'cluster']].groupby('cluster').mean().reset_index()\n",
    "df_cluster = pd.merge(df_cluster, df_avg_ticket, how='inner', on='cluster')\n",
    "\n",
    "df_cluster"
   ]
  },
  {
   "cell_type": "markdown",
   "id": "d2738e4f",
   "metadata": {},
   "source": [
    "### Cluster 01: Insiders Candidate\n",
    "    - Number of Customers: 6 (0.14%)\n",
    "    - Avg Recency: 7 days.\n",
    "    - Avg Purchases: 89 purchases.\n",
    "    - Avg Revenue: $182,182.98 dollars.\n",
    "\n",
    "### Cluster 02:\n",
    "    - Number of Customers: 14 (0.13%)\n",
    "    - Avg Recency: 13 days.\n",
    "    - Avg Purchases: 53 purchases.\n",
    "    - Avg Revenue: $40,543.51 dollars.\n",
    "    \n",
    "### Cluster 03: \n",
    "    - Number of Customers: 4335 (99,15%)\n",
    "    - Avg Recency: 92 days.\n",
    "    - Avg Purchases: 4 purchases.\n",
    "    - Avg Revenue: $1,372.57 dollars."
   ]
  },
  {
   "cell_type": "markdown",
   "id": "6f66a681",
   "metadata": {},
   "source": [
    "# 10. Deploy To Production"
   ]
  },
  {
   "cell_type": "code",
   "execution_count": null,
   "id": "2a9db5ce",
   "metadata": {},
   "outputs": [],
   "source": []
  },
  {
   "cell_type": "code",
   "execution_count": null,
   "id": "e317e1aa",
   "metadata": {},
   "outputs": [],
   "source": []
  }
 ],
 "metadata": {
  "kernelspec": {
   "display_name": "Python 3 (ipykernel)",
   "language": "python",
   "name": "python3"
  },
  "language_info": {
   "codemirror_mode": {
    "name": "ipython",
    "version": 3
   },
   "file_extension": ".py",
   "mimetype": "text/x-python",
   "name": "python",
   "nbconvert_exporter": "python",
   "pygments_lexer": "ipython3",
   "version": "3.9.12"
  },
  "varInspector": {
   "cols": {
    "lenName": 16,
    "lenType": 16,
    "lenVar": 40
   },
   "kernels_config": {
    "python": {
     "delete_cmd_postfix": "",
     "delete_cmd_prefix": "del ",
     "library": "var_list.py",
     "varRefreshCmd": "print(var_dic_list())"
    },
    "r": {
     "delete_cmd_postfix": ") ",
     "delete_cmd_prefix": "rm(",
     "library": "var_list.r",
     "varRefreshCmd": "cat(var_dic_list()) "
    }
   },
   "types_to_exclude": [
    "module",
    "function",
    "builtin_function_or_method",
    "instance",
    "_Feature"
   ],
   "window_display": false
  }
 },
 "nbformat": 4,
 "nbformat_minor": 5
}
