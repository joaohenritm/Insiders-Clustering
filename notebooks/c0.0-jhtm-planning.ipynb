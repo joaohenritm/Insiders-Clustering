{
 "cells": [
  {
   "cell_type": "markdown",
   "id": "a928cf33",
   "metadata": {},
   "source": [
    "# High Value Customer Identification (Insiders)"
   ]
  },
  {
   "cell_type": "markdown",
   "id": "c1fb54b3",
   "metadata": {
    "ExecuteTime": {
     "end_time": "2022-05-16T12:06:37.289397Z",
     "start_time": "2022-05-16T12:06:37.285357Z"
    }
   },
   "source": [
    "## Solution Planning (IOT)"
   ]
  },
  {
   "cell_type": "markdown",
   "id": "aec8ed05",
   "metadata": {
    "heading_collapsed": true
   },
   "source": [
    "### Input"
   ]
  },
  {
   "cell_type": "markdown",
   "id": "7b053e3b",
   "metadata": {
    "hidden": true
   },
   "source": [
    "1. Business Problem\n",
    "    - Select the most valued customers to integrade a Fidelity Program.\n",
    "    \n",
    "    \n",
    "2. Datasets\n",
    "    - Sales of an online e-commerce during the period of 1 year."
   ]
  },
  {
   "cell_type": "markdown",
   "id": "acb58319",
   "metadata": {
    "ExecuteTime": {
     "end_time": "2022-05-16T12:06:57.725125Z",
     "start_time": "2022-05-16T12:06:57.719014Z"
    },
    "heading_collapsed": true
   },
   "source": [
    "### Output"
   ]
  },
  {
   "cell_type": "markdown",
   "id": "79385fbf",
   "metadata": {
    "hidden": true
   },
   "source": [
    "1. A list indicating the customers that will be part of the Fidelity Program\n",
    "    - List:  \n",
    "            client_id | is_insider\n",
    "              10323   |   yes/1\n",
    "              42394   |   no/0\n",
    "              32455   |   no/0\n",
    "          \n",
    "\n",
    "2. Report with the answers of the business problems.\n",
    "    - Who are the most elegible customers to make part in the Insiders Program?\n",
    "    - How many clients will make part of this group?\n",
    "    - Which are the main features of these clients?\n",
    "    - What is the percentage that these clients contributes to the revenue?\n",
    "    - What is the expectative of revenue of these group for the next months?\n",
    "    - What are the conditions for a person to be eligible to the Insiders?\n",
    "    - What are the conditions for a person to be removed from the Insiders?\n",
    "    - What is the garantee that the Insiders Program is better than the rest of the base?\n",
    "    - What actions the marketing team can make to increase the revenue?"
   ]
  },
  {
   "cell_type": "markdown",
   "id": "49d69e5f",
   "metadata": {
    "ExecuteTime": {
     "end_time": "2022-05-16T12:07:01.409686Z",
     "start_time": "2022-05-16T12:07:01.406312Z"
    }
   },
   "source": [
    "### Tasks"
   ]
  },
  {
   "cell_type": "markdown",
   "id": "11245eb6",
   "metadata": {},
   "source": [
    "1. Who are the most elegible customers to make part in the Insiders Program?\n",
    "    - What is needed to be elegible? What is a customer with a \"high value\"?\n",
    "    - Revenue:\n",
    "        - High Average Ticket.\n",
    "        - High Life Time Value.\n",
    "        - Frequency.\n",
    "        - High Basket Size.\n",
    "        - Low probability of Churn.\n",
    "        - High LTV prediction.\n",
    "        - High Propensity of Buying.\n",
    "    - Cost:\n",
    "        - Low return rate.\n",
    "    - Shopping Experience:\n",
    "        - High average of the evaluations.   \n",
    "  \n",
    "2. How many clients will make part of this group?\n",
    "    - Total Number of Clients.\n",
    "    - % of the Insiders group.   \n",
    "   \n",
    "3. Which are the main features of these clients?\n",
    "    - Features of the Customers:\n",
    "        - Age.\n",
    "        - Localization.\n",
    "        \n",
    "    - Features of the consumption:\n",
    "        - Attributes of the clustering.  \n",
    "  \n",
    "4. What is the percentage that these clients contributes to the revenue?\n",
    "    - Total revenue of the year.\n",
    "    - Total revenue from the Insiders group.\n",
    "      \n",
    "5. What is the expectative of revenue of these group for the next months?\n",
    "    - LTV of the Insiders group. \n",
    "    - Cohort analysis.   \n",
    "    \n",
    "6. What are the conditions for a person to be eligible to the Insiders?\n",
    "    - Define the frequency that customers will be reevaluated (1 month, 3 months).\n",
    "    - The person needs to be similar from the rest of the the group.\n",
    "       \n",
    "7. What are the conditions for a person to be removed from the Insiders?\n",
    "    - Define the frequency (1 month, 3 months).\n",
    "    - The person needs to be dissimilar from the rest of the group.\n",
    "   \n",
    "8. What is the garantee that the Insiders Program is better than the rest of the base?\n",
    "    - A/B Test.\n",
    "    - Bayesian A/B Test.\n",
    "    - Hypothesis Test\n",
    "\n",
    "9. What actions the marketing team can make to increase the revenue?\n",
    "    - Preference of Shopping.\n",
    "    - Discount.\n",
    "    - Visit to the Company."
   ]
  }
 ],
 "metadata": {
  "kernelspec": {
   "display_name": "Python 3 (ipykernel)",
   "language": "python",
   "name": "python3"
  },
  "language_info": {
   "codemirror_mode": {
    "name": "ipython",
    "version": 3
   },
   "file_extension": ".py",
   "mimetype": "text/x-python",
   "name": "python",
   "nbconvert_exporter": "python",
   "pygments_lexer": "ipython3",
   "version": "3.9.0"
  },
  "varInspector": {
   "cols": {
    "lenName": 16,
    "lenType": 16,
    "lenVar": 40
   },
   "kernels_config": {
    "python": {
     "delete_cmd_postfix": "",
     "delete_cmd_prefix": "del ",
     "library": "var_list.py",
     "varRefreshCmd": "print(var_dic_list())"
    },
    "r": {
     "delete_cmd_postfix": ") ",
     "delete_cmd_prefix": "rm(",
     "library": "var_list.r",
     "varRefreshCmd": "cat(var_dic_list()) "
    }
   },
   "types_to_exclude": [
    "module",
    "function",
    "builtin_function_or_method",
    "instance",
    "_Feature"
   ],
   "window_display": false
  }
 },
 "nbformat": 4,
 "nbformat_minor": 5
}
